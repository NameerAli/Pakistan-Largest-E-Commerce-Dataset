{
 "cells": [
  {
   "cell_type": "code",
   "execution_count": 2,
   "id": "internal-retrieval",
   "metadata": {
    "_cell_guid": "b1076dfc-b9ad-4769-8c92-a6c4dae69d19",
    "_uuid": "8f2839f25d086af736a60e9eeb907d3b93b6e0e5",
    "execution": {
     "iopub.execute_input": "2021-08-03T07:12:25.777946Z",
     "iopub.status.busy": "2021-08-03T07:12:25.774008Z",
     "iopub.status.idle": "2021-08-03T07:12:28.344740Z",
     "shell.execute_reply": "2021-08-03T07:12:28.342996Z",
     "shell.execute_reply.started": "2021-06-08T09:47:58.51313Z"
    },
    "papermill": {
     "duration": 2.60499,
     "end_time": "2021-08-03T07:12:28.345031",
     "exception": false,
     "start_time": "2021-08-03T07:12:25.740041",
     "status": "completed"
    },
    "tags": []
   },
   "outputs": [
    {
     "ename": "ModuleNotFoundError",
     "evalue": "No module named 'numpy'",
     "output_type": "error",
     "traceback": [
      "\u001b[1;31m---------------------------------------------------------------------------\u001b[0m",
      "\u001b[1;31mModuleNotFoundError\u001b[0m                       Traceback (most recent call last)",
      "\u001b[1;32mC:\\Users\\HAROON~1\\AppData\\Local\\Temp/ipykernel_4652/250581912.py\u001b[0m in \u001b[0;36m<module>\u001b[1;34m\u001b[0m\n\u001b[0;32m      3\u001b[0m \u001b[1;31m# For example, here's several helpful packages to load\u001b[0m\u001b[1;33m\u001b[0m\u001b[1;33m\u001b[0m\u001b[0m\n\u001b[0;32m      4\u001b[0m \u001b[1;33m\u001b[0m\u001b[0m\n\u001b[1;32m----> 5\u001b[1;33m \u001b[1;32mimport\u001b[0m \u001b[0mnumpy\u001b[0m \u001b[1;32mas\u001b[0m \u001b[0mnp\u001b[0m \u001b[1;31m# linear algebra\u001b[0m\u001b[1;33m\u001b[0m\u001b[1;33m\u001b[0m\u001b[0m\n\u001b[0m\u001b[0;32m      6\u001b[0m \u001b[1;32mimport\u001b[0m \u001b[0mpandas\u001b[0m \u001b[1;32mas\u001b[0m \u001b[0mpd\u001b[0m \u001b[1;31m# data processing, CSV file I/O (e.g. pd.read_csv)\u001b[0m\u001b[1;33m\u001b[0m\u001b[1;33m\u001b[0m\u001b[0m\n\u001b[0;32m      7\u001b[0m \u001b[1;32mimport\u001b[0m \u001b[0mmatplotlib\u001b[0m\u001b[1;33m.\u001b[0m\u001b[0mpyplot\u001b[0m \u001b[1;32mas\u001b[0m \u001b[0mplt\u001b[0m\u001b[1;33m\u001b[0m\u001b[1;33m\u001b[0m\u001b[0m\n",
      "\u001b[1;31mModuleNotFoundError\u001b[0m: No module named 'numpy'"
     ]
    }
   ],
   "source": [
    "# This Python 3 environment comes with many helpful analytics libraries installed\n",
    "# It is defined by the kaggle/python Docker image: https://github.com/kaggle/docker-python\n",
    "# For example, here's several helpful packages to load\n",
    "\n",
    "import numpy as np # linear algebra\n",
    "import pandas as pd # data processing, CSV file I/O (e.g. pd.read_csv)\n",
    "import matplotlib.pyplot as plt\n",
    "import seaborn as sns\n",
    "import plotly as py\n",
    "import plotly.express as px\n",
    "import plotly.graph_objs as go\n",
    "\n",
    "\n",
    "# Input data files are available in the read-only \"../input/\" directory\n",
    "# For example, running this (by clicking run or pressing Shift+Enter) will list all files under the input directory\n",
    "\n",
    "import os\n",
    "for dirname, _, filenames in os.walk('/kaggle/input'):\n",
    "    for filename in filenames:\n",
    "        print(os.path.join(dirname, filename))\n",
    "\n",
    "# You can write up to 20GB to the current directory (/kaggle/working/) that gets preserved as output when you create a version using \"Save & Run All\" \n",
    "# You can also write temporary files to /kaggle/temp/, but they won't be saved outside of the current session"
   ]
  },
  {
   "cell_type": "code",
   "execution_count": null,
   "id": "cross-bankruptcy",
   "metadata": {
    "execution": {
     "iopub.execute_input": "2021-08-03T07:12:28.405033Z",
     "iopub.status.busy": "2021-08-03T07:12:28.404169Z",
     "iopub.status.idle": "2021-08-03T07:12:34.392732Z",
     "shell.execute_reply": "2021-08-03T07:12:34.393241Z",
     "shell.execute_reply.started": "2021-06-08T09:47:58.526328Z"
    },
    "papermill": {
     "duration": 6.018605,
     "end_time": "2021-08-03T07:12:34.393438",
     "exception": false,
     "start_time": "2021-08-03T07:12:28.374833",
     "status": "completed"
    },
    "tags": []
   },
   "outputs": [
    {
     "name": "stderr",
     "output_type": "stream",
     "text": [
      "/opt/conda/lib/python3.7/site-packages/IPython/core/interactiveshell.py:3166: DtypeWarning: Columns (1,2,3,7,8,9,11,12,13,14,17,18,19) have mixed types.Specify dtype option on import or set low_memory=False.\n",
      "  interactivity=interactivity, compiler=compiler, result=result)\n"
     ]
    },
    {
     "data": {
      "text/html": [
       "<div>\n",
       "<style scoped>\n",
       "    .dataframe tbody tr th:only-of-type {\n",
       "        vertical-align: middle;\n",
       "    }\n",
       "\n",
       "    .dataframe tbody tr th {\n",
       "        vertical-align: top;\n",
       "    }\n",
       "\n",
       "    .dataframe thead th {\n",
       "        text-align: right;\n",
       "    }\n",
       "</style>\n",
       "<table border=\"1\" class=\"dataframe\">\n",
       "  <thead>\n",
       "    <tr style=\"text-align: right;\">\n",
       "      <th></th>\n",
       "      <th>item_id</th>\n",
       "      <th>status</th>\n",
       "      <th>created_at</th>\n",
       "      <th>sku</th>\n",
       "      <th>price</th>\n",
       "      <th>qty_ordered</th>\n",
       "      <th>grand_total</th>\n",
       "      <th>increment_id</th>\n",
       "      <th>category_name_1</th>\n",
       "      <th>sales_commission_code</th>\n",
       "      <th>...</th>\n",
       "      <th>Month</th>\n",
       "      <th>Customer Since</th>\n",
       "      <th>M-Y</th>\n",
       "      <th>FY</th>\n",
       "      <th>Customer ID</th>\n",
       "      <th>Unnamed: 21</th>\n",
       "      <th>Unnamed: 22</th>\n",
       "      <th>Unnamed: 23</th>\n",
       "      <th>Unnamed: 24</th>\n",
       "      <th>Unnamed: 25</th>\n",
       "    </tr>\n",
       "  </thead>\n",
       "  <tbody>\n",
       "    <tr>\n",
       "      <th>0</th>\n",
       "      <td>211131.0</td>\n",
       "      <td>complete</td>\n",
       "      <td>7/1/2016</td>\n",
       "      <td>kreations_YI 06-L</td>\n",
       "      <td>1950.0</td>\n",
       "      <td>1.0</td>\n",
       "      <td>1950.0</td>\n",
       "      <td>100147443</td>\n",
       "      <td>Women's Fashion</td>\n",
       "      <td>\\N</td>\n",
       "      <td>...</td>\n",
       "      <td>7.0</td>\n",
       "      <td>2016-7</td>\n",
       "      <td>7-2016</td>\n",
       "      <td>FY17</td>\n",
       "      <td>1.0</td>\n",
       "      <td>NaN</td>\n",
       "      <td>NaN</td>\n",
       "      <td>NaN</td>\n",
       "      <td>NaN</td>\n",
       "      <td>NaN</td>\n",
       "    </tr>\n",
       "    <tr>\n",
       "      <th>1</th>\n",
       "      <td>211133.0</td>\n",
       "      <td>canceled</td>\n",
       "      <td>7/1/2016</td>\n",
       "      <td>kcc_Buy 2 Frey Air Freshener &amp; Get 1 Kasual Bo...</td>\n",
       "      <td>240.0</td>\n",
       "      <td>1.0</td>\n",
       "      <td>240.0</td>\n",
       "      <td>100147444</td>\n",
       "      <td>Beauty &amp; Grooming</td>\n",
       "      <td>\\N</td>\n",
       "      <td>...</td>\n",
       "      <td>7.0</td>\n",
       "      <td>2016-7</td>\n",
       "      <td>7-2016</td>\n",
       "      <td>FY17</td>\n",
       "      <td>2.0</td>\n",
       "      <td>NaN</td>\n",
       "      <td>NaN</td>\n",
       "      <td>NaN</td>\n",
       "      <td>NaN</td>\n",
       "      <td>NaN</td>\n",
       "    </tr>\n",
       "    <tr>\n",
       "      <th>2</th>\n",
       "      <td>211134.0</td>\n",
       "      <td>canceled</td>\n",
       "      <td>7/1/2016</td>\n",
       "      <td>Ego_UP0017-999-MR0</td>\n",
       "      <td>2450.0</td>\n",
       "      <td>1.0</td>\n",
       "      <td>2450.0</td>\n",
       "      <td>100147445</td>\n",
       "      <td>Women's Fashion</td>\n",
       "      <td>\\N</td>\n",
       "      <td>...</td>\n",
       "      <td>7.0</td>\n",
       "      <td>2016-7</td>\n",
       "      <td>7-2016</td>\n",
       "      <td>FY17</td>\n",
       "      <td>3.0</td>\n",
       "      <td>NaN</td>\n",
       "      <td>NaN</td>\n",
       "      <td>NaN</td>\n",
       "      <td>NaN</td>\n",
       "      <td>NaN</td>\n",
       "    </tr>\n",
       "    <tr>\n",
       "      <th>3</th>\n",
       "      <td>211135.0</td>\n",
       "      <td>complete</td>\n",
       "      <td>7/1/2016</td>\n",
       "      <td>kcc_krone deal</td>\n",
       "      <td>360.0</td>\n",
       "      <td>1.0</td>\n",
       "      <td>60.0</td>\n",
       "      <td>100147446</td>\n",
       "      <td>Beauty &amp; Grooming</td>\n",
       "      <td>R-FSD-52352</td>\n",
       "      <td>...</td>\n",
       "      <td>7.0</td>\n",
       "      <td>2016-7</td>\n",
       "      <td>7-2016</td>\n",
       "      <td>FY17</td>\n",
       "      <td>4.0</td>\n",
       "      <td>NaN</td>\n",
       "      <td>NaN</td>\n",
       "      <td>NaN</td>\n",
       "      <td>NaN</td>\n",
       "      <td>NaN</td>\n",
       "    </tr>\n",
       "    <tr>\n",
       "      <th>4</th>\n",
       "      <td>211136.0</td>\n",
       "      <td>order_refunded</td>\n",
       "      <td>7/1/2016</td>\n",
       "      <td>BK7010400AG</td>\n",
       "      <td>555.0</td>\n",
       "      <td>2.0</td>\n",
       "      <td>1110.0</td>\n",
       "      <td>100147447</td>\n",
       "      <td>Soghaat</td>\n",
       "      <td>\\N</td>\n",
       "      <td>...</td>\n",
       "      <td>7.0</td>\n",
       "      <td>2016-7</td>\n",
       "      <td>7-2016</td>\n",
       "      <td>FY17</td>\n",
       "      <td>5.0</td>\n",
       "      <td>NaN</td>\n",
       "      <td>NaN</td>\n",
       "      <td>NaN</td>\n",
       "      <td>NaN</td>\n",
       "      <td>NaN</td>\n",
       "    </tr>\n",
       "    <tr>\n",
       "      <th>...</th>\n",
       "      <td>...</td>\n",
       "      <td>...</td>\n",
       "      <td>...</td>\n",
       "      <td>...</td>\n",
       "      <td>...</td>\n",
       "      <td>...</td>\n",
       "      <td>...</td>\n",
       "      <td>...</td>\n",
       "      <td>...</td>\n",
       "      <td>...</td>\n",
       "      <td>...</td>\n",
       "      <td>...</td>\n",
       "      <td>...</td>\n",
       "      <td>...</td>\n",
       "      <td>...</td>\n",
       "      <td>...</td>\n",
       "      <td>...</td>\n",
       "      <td>...</td>\n",
       "      <td>...</td>\n",
       "      <td>...</td>\n",
       "      <td>...</td>\n",
       "    </tr>\n",
       "    <tr>\n",
       "      <th>1048570</th>\n",
       "      <td>NaN</td>\n",
       "      <td>NaN</td>\n",
       "      <td>NaN</td>\n",
       "      <td>NaN</td>\n",
       "      <td>NaN</td>\n",
       "      <td>NaN</td>\n",
       "      <td>NaN</td>\n",
       "      <td>NaN</td>\n",
       "      <td>NaN</td>\n",
       "      <td>NaN</td>\n",
       "      <td>...</td>\n",
       "      <td>NaN</td>\n",
       "      <td>NaN</td>\n",
       "      <td>NaN</td>\n",
       "      <td>NaN</td>\n",
       "      <td>NaN</td>\n",
       "      <td>NaN</td>\n",
       "      <td>NaN</td>\n",
       "      <td>NaN</td>\n",
       "      <td>NaN</td>\n",
       "      <td>NaN</td>\n",
       "    </tr>\n",
       "    <tr>\n",
       "      <th>1048571</th>\n",
       "      <td>NaN</td>\n",
       "      <td>NaN</td>\n",
       "      <td>NaN</td>\n",
       "      <td>NaN</td>\n",
       "      <td>NaN</td>\n",
       "      <td>NaN</td>\n",
       "      <td>NaN</td>\n",
       "      <td>NaN</td>\n",
       "      <td>NaN</td>\n",
       "      <td>NaN</td>\n",
       "      <td>...</td>\n",
       "      <td>NaN</td>\n",
       "      <td>NaN</td>\n",
       "      <td>NaN</td>\n",
       "      <td>NaN</td>\n",
       "      <td>NaN</td>\n",
       "      <td>NaN</td>\n",
       "      <td>NaN</td>\n",
       "      <td>NaN</td>\n",
       "      <td>NaN</td>\n",
       "      <td>NaN</td>\n",
       "    </tr>\n",
       "    <tr>\n",
       "      <th>1048572</th>\n",
       "      <td>NaN</td>\n",
       "      <td>NaN</td>\n",
       "      <td>NaN</td>\n",
       "      <td>NaN</td>\n",
       "      <td>NaN</td>\n",
       "      <td>NaN</td>\n",
       "      <td>NaN</td>\n",
       "      <td>NaN</td>\n",
       "      <td>NaN</td>\n",
       "      <td>NaN</td>\n",
       "      <td>...</td>\n",
       "      <td>NaN</td>\n",
       "      <td>NaN</td>\n",
       "      <td>NaN</td>\n",
       "      <td>NaN</td>\n",
       "      <td>NaN</td>\n",
       "      <td>NaN</td>\n",
       "      <td>NaN</td>\n",
       "      <td>NaN</td>\n",
       "      <td>NaN</td>\n",
       "      <td>NaN</td>\n",
       "    </tr>\n",
       "    <tr>\n",
       "      <th>1048573</th>\n",
       "      <td>NaN</td>\n",
       "      <td>NaN</td>\n",
       "      <td>NaN</td>\n",
       "      <td>NaN</td>\n",
       "      <td>NaN</td>\n",
       "      <td>NaN</td>\n",
       "      <td>NaN</td>\n",
       "      <td>NaN</td>\n",
       "      <td>NaN</td>\n",
       "      <td>NaN</td>\n",
       "      <td>...</td>\n",
       "      <td>NaN</td>\n",
       "      <td>NaN</td>\n",
       "      <td>NaN</td>\n",
       "      <td>NaN</td>\n",
       "      <td>NaN</td>\n",
       "      <td>NaN</td>\n",
       "      <td>NaN</td>\n",
       "      <td>NaN</td>\n",
       "      <td>NaN</td>\n",
       "      <td>NaN</td>\n",
       "    </tr>\n",
       "    <tr>\n",
       "      <th>1048574</th>\n",
       "      <td>NaN</td>\n",
       "      <td>NaN</td>\n",
       "      <td>NaN</td>\n",
       "      <td>NaN</td>\n",
       "      <td>NaN</td>\n",
       "      <td>NaN</td>\n",
       "      <td>NaN</td>\n",
       "      <td>NaN</td>\n",
       "      <td>NaN</td>\n",
       "      <td>NaN</td>\n",
       "      <td>...</td>\n",
       "      <td>NaN</td>\n",
       "      <td>NaN</td>\n",
       "      <td>NaN</td>\n",
       "      <td>NaN</td>\n",
       "      <td>NaN</td>\n",
       "      <td>NaN</td>\n",
       "      <td>NaN</td>\n",
       "      <td>NaN</td>\n",
       "      <td>NaN</td>\n",
       "      <td>NaN</td>\n",
       "    </tr>\n",
       "  </tbody>\n",
       "</table>\n",
       "<p>1048575 rows × 26 columns</p>\n",
       "</div>"
      ],
      "text/plain": [
       "          item_id          status created_at  \\\n",
       "0        211131.0        complete   7/1/2016   \n",
       "1        211133.0        canceled   7/1/2016   \n",
       "2        211134.0        canceled   7/1/2016   \n",
       "3        211135.0        complete   7/1/2016   \n",
       "4        211136.0  order_refunded   7/1/2016   \n",
       "...           ...             ...        ...   \n",
       "1048570       NaN             NaN        NaN   \n",
       "1048571       NaN             NaN        NaN   \n",
       "1048572       NaN             NaN        NaN   \n",
       "1048573       NaN             NaN        NaN   \n",
       "1048574       NaN             NaN        NaN   \n",
       "\n",
       "                                                       sku   price  \\\n",
       "0                                        kreations_YI 06-L  1950.0   \n",
       "1        kcc_Buy 2 Frey Air Freshener & Get 1 Kasual Bo...   240.0   \n",
       "2                                       Ego_UP0017-999-MR0  2450.0   \n",
       "3                                           kcc_krone deal   360.0   \n",
       "4                                              BK7010400AG   555.0   \n",
       "...                                                    ...     ...   \n",
       "1048570                                                NaN     NaN   \n",
       "1048571                                                NaN     NaN   \n",
       "1048572                                                NaN     NaN   \n",
       "1048573                                                NaN     NaN   \n",
       "1048574                                                NaN     NaN   \n",
       "\n",
       "         qty_ordered  grand_total increment_id    category_name_1  \\\n",
       "0                1.0       1950.0    100147443    Women's Fashion   \n",
       "1                1.0        240.0    100147444  Beauty & Grooming   \n",
       "2                1.0       2450.0    100147445    Women's Fashion   \n",
       "3                1.0         60.0    100147446  Beauty & Grooming   \n",
       "4                2.0       1110.0    100147447            Soghaat   \n",
       "...              ...          ...          ...                ...   \n",
       "1048570          NaN          NaN          NaN                NaN   \n",
       "1048571          NaN          NaN          NaN                NaN   \n",
       "1048572          NaN          NaN          NaN                NaN   \n",
       "1048573          NaN          NaN          NaN                NaN   \n",
       "1048574          NaN          NaN          NaN                NaN   \n",
       "\n",
       "        sales_commission_code  ...  Month Customer Since     M-Y    FY  \\\n",
       "0                          \\N  ...    7.0         2016-7  7-2016  FY17   \n",
       "1                          \\N  ...    7.0         2016-7  7-2016  FY17   \n",
       "2                          \\N  ...    7.0         2016-7  7-2016  FY17   \n",
       "3                 R-FSD-52352  ...    7.0         2016-7  7-2016  FY17   \n",
       "4                          \\N  ...    7.0         2016-7  7-2016  FY17   \n",
       "...                       ...  ...    ...            ...     ...   ...   \n",
       "1048570                   NaN  ...    NaN            NaN     NaN   NaN   \n",
       "1048571                   NaN  ...    NaN            NaN     NaN   NaN   \n",
       "1048572                   NaN  ...    NaN            NaN     NaN   NaN   \n",
       "1048573                   NaN  ...    NaN            NaN     NaN   NaN   \n",
       "1048574                   NaN  ...    NaN            NaN     NaN   NaN   \n",
       "\n",
       "        Customer ID  Unnamed: 21  Unnamed: 22 Unnamed: 23 Unnamed: 24  \\\n",
       "0               1.0          NaN          NaN         NaN         NaN   \n",
       "1               2.0          NaN          NaN         NaN         NaN   \n",
       "2               3.0          NaN          NaN         NaN         NaN   \n",
       "3               4.0          NaN          NaN         NaN         NaN   \n",
       "4               5.0          NaN          NaN         NaN         NaN   \n",
       "...             ...          ...          ...         ...         ...   \n",
       "1048570         NaN          NaN          NaN         NaN         NaN   \n",
       "1048571         NaN          NaN          NaN         NaN         NaN   \n",
       "1048572         NaN          NaN          NaN         NaN         NaN   \n",
       "1048573         NaN          NaN          NaN         NaN         NaN   \n",
       "1048574         NaN          NaN          NaN         NaN         NaN   \n",
       "\n",
       "        Unnamed: 25  \n",
       "0               NaN  \n",
       "1               NaN  \n",
       "2               NaN  \n",
       "3               NaN  \n",
       "4               NaN  \n",
       "...             ...  \n",
       "1048570         NaN  \n",
       "1048571         NaN  \n",
       "1048572         NaN  \n",
       "1048573         NaN  \n",
       "1048574         NaN  \n",
       "\n",
       "[1048575 rows x 26 columns]"
      ]
     },
     "execution_count": 2,
     "metadata": {},
     "output_type": "execute_result"
    }
   ],
   "source": [
    "data=pd.read_csv('/kaggle/input/pakistans-largest-ecommerce-dataset/Pakistan Largest Ecommerce Dataset.csv')\n",
    "data"
   ]
  },
  {
   "cell_type": "markdown",
   "id": "closed-scratch",
   "metadata": {
    "papermill": {
     "duration": 0.025954,
     "end_time": "2021-08-03T07:12:34.444107",
     "exception": false,
     "start_time": "2021-08-03T07:12:34.418153",
     "status": "completed"
    },
    "tags": []
   },
   "source": [
    "# Data Cleaning"
   ]
  },
  {
   "cell_type": "code",
   "execution_count": null,
   "id": "organizational-qatar",
   "metadata": {
    "execution": {
     "iopub.execute_input": "2021-08-03T07:12:34.502184Z",
     "iopub.status.busy": "2021-08-03T07:12:34.501434Z",
     "iopub.status.idle": "2021-08-03T07:12:34.506062Z",
     "shell.execute_reply": "2021-08-03T07:12:34.506537Z",
     "shell.execute_reply.started": "2021-06-08T09:48:04.252487Z"
    },
    "papermill": {
     "duration": 0.035633,
     "end_time": "2021-08-03T07:12:34.506736",
     "exception": false,
     "start_time": "2021-08-03T07:12:34.471103",
     "status": "completed"
    },
    "tags": []
   },
   "outputs": [
    {
     "data": {
      "text/plain": [
       "(1048575, 26)"
      ]
     },
     "execution_count": 3,
     "metadata": {},
     "output_type": "execute_result"
    }
   ],
   "source": [
    "data.shape"
   ]
  },
  {
   "cell_type": "code",
   "execution_count": null,
   "id": "noble-diagram",
   "metadata": {
    "execution": {
     "iopub.execute_input": "2021-08-03T07:12:34.560874Z",
     "iopub.status.busy": "2021-08-03T07:12:34.560214Z",
     "iopub.status.idle": "2021-08-03T07:12:34.565351Z",
     "shell.execute_reply": "2021-08-03T07:12:34.565882Z",
     "shell.execute_reply.started": "2021-06-08T09:48:04.263827Z"
    },
    "papermill": {
     "duration": 0.033777,
     "end_time": "2021-08-03T07:12:34.566071",
     "exception": false,
     "start_time": "2021-08-03T07:12:34.532294",
     "status": "completed"
    },
    "tags": []
   },
   "outputs": [
    {
     "data": {
      "text/plain": [
       "Index(['item_id', 'status', 'created_at', 'sku', 'price', 'qty_ordered',\n",
       "       'grand_total', 'increment_id', 'category_name_1',\n",
       "       'sales_commission_code', 'discount_amount', 'payment_method',\n",
       "       'Working Date', 'BI Status', ' MV ', 'Year', 'Month', 'Customer Since',\n",
       "       'M-Y', 'FY', 'Customer ID', 'Unnamed: 21', 'Unnamed: 22', 'Unnamed: 23',\n",
       "       'Unnamed: 24', 'Unnamed: 25'],\n",
       "      dtype='object')"
      ]
     },
     "execution_count": 4,
     "metadata": {},
     "output_type": "execute_result"
    }
   ],
   "source": [
    "data.columns"
   ]
  },
  {
   "cell_type": "code",
   "execution_count": null,
   "id": "chronic-sudan",
   "metadata": {
    "execution": {
     "iopub.execute_input": "2021-08-03T07:12:34.622694Z",
     "iopub.status.busy": "2021-08-03T07:12:34.622006Z",
     "iopub.status.idle": "2021-08-03T07:12:35.642443Z",
     "shell.execute_reply": "2021-08-03T07:12:35.641848Z",
     "shell.execute_reply.started": "2021-06-08T09:48:04.28836Z"
    },
    "papermill": {
     "duration": 1.050029,
     "end_time": "2021-08-03T07:12:35.642588",
     "exception": false,
     "start_time": "2021-08-03T07:12:34.592559",
     "status": "completed"
    },
    "tags": []
   },
   "outputs": [
    {
     "name": "stdout",
     "output_type": "stream",
     "text": [
      "<class 'pandas.core.frame.DataFrame'>\n",
      "RangeIndex: 1048575 entries, 0 to 1048574\n",
      "Data columns (total 26 columns):\n",
      " #   Column                 Non-Null Count   Dtype  \n",
      "---  ------                 --------------   -----  \n",
      " 0   item_id                584524 non-null  float64\n",
      " 1   status                 584509 non-null  object \n",
      " 2   created_at             584524 non-null  object \n",
      " 3   sku                    584504 non-null  object \n",
      " 4   price                  584524 non-null  float64\n",
      " 5   qty_ordered            584524 non-null  float64\n",
      " 6   grand_total            584524 non-null  float64\n",
      " 7   increment_id           584524 non-null  object \n",
      " 8   category_name_1        584360 non-null  object \n",
      " 9   sales_commission_code  447349 non-null  object \n",
      " 10  discount_amount        584524 non-null  float64\n",
      " 11  payment_method         584524 non-null  object \n",
      " 12  Working Date           584524 non-null  object \n",
      " 13  BI Status              584524 non-null  object \n",
      " 14   MV                    584524 non-null  object \n",
      " 15  Year                   584524 non-null  float64\n",
      " 16  Month                  584524 non-null  float64\n",
      " 17  Customer Since         584513 non-null  object \n",
      " 18  M-Y                    584524 non-null  object \n",
      " 19  FY                     584524 non-null  object \n",
      " 20  Customer ID            584513 non-null  float64\n",
      " 21  Unnamed: 21            0 non-null       float64\n",
      " 22  Unnamed: 22            0 non-null       float64\n",
      " 23  Unnamed: 23            0 non-null       float64\n",
      " 24  Unnamed: 24            0 non-null       float64\n",
      " 25  Unnamed: 25            0 non-null       float64\n",
      "dtypes: float64(13), object(13)\n",
      "memory usage: 208.0+ MB\n"
     ]
    }
   ],
   "source": [
    "data.info()"
   ]
  },
  {
   "cell_type": "markdown",
   "id": "pediatric-macro",
   "metadata": {
    "papermill": {
     "duration": 0.025548,
     "end_time": "2021-08-03T07:12:35.694156",
     "exception": false,
     "start_time": "2021-08-03T07:12:35.668608",
     "status": "completed"
    },
    "tags": []
   },
   "source": [
    " **Since the last five column have non values so it drop**"
   ]
  },
  {
   "cell_type": "code",
   "execution_count": null,
   "id": "introductory-assurance",
   "metadata": {
    "execution": {
     "iopub.execute_input": "2021-08-03T07:12:35.765249Z",
     "iopub.status.busy": "2021-08-03T07:12:35.764548Z",
     "iopub.status.idle": "2021-08-03T07:12:35.899860Z",
     "shell.execute_reply": "2021-08-03T07:12:35.899215Z",
     "shell.execute_reply.started": "2021-06-08T09:48:05.330011Z"
    },
    "papermill": {
     "duration": 0.180139,
     "end_time": "2021-08-03T07:12:35.900006",
     "exception": false,
     "start_time": "2021-08-03T07:12:35.719867",
     "status": "completed"
    },
    "tags": []
   },
   "outputs": [],
   "source": [
    "data = data.iloc[:, :-5]"
   ]
  },
  {
   "cell_type": "markdown",
   "id": "special-plate",
   "metadata": {
    "papermill": {
     "duration": 0.026545,
     "end_time": "2021-08-03T07:12:35.952635",
     "exception": false,
     "start_time": "2021-08-03T07:12:35.926090",
     "status": "completed"
    },
    "tags": []
   },
   "source": [
    "**Drop null values**"
   ]
  },
  {
   "cell_type": "code",
   "execution_count": null,
   "id": "designing-fruit",
   "metadata": {
    "execution": {
     "iopub.execute_input": "2021-08-03T07:12:36.013016Z",
     "iopub.status.busy": "2021-08-03T07:12:36.012323Z",
     "iopub.status.idle": "2021-08-03T07:12:37.203383Z",
     "shell.execute_reply": "2021-08-03T07:12:37.202761Z",
     "shell.execute_reply.started": "2021-06-08T09:48:05.537104Z"
    },
    "papermill": {
     "duration": 1.223204,
     "end_time": "2021-08-03T07:12:37.203548",
     "exception": false,
     "start_time": "2021-08-03T07:12:35.980344",
     "status": "completed"
    },
    "tags": []
   },
   "outputs": [],
   "source": [
    "data=data.dropna(how='all')"
   ]
  },
  {
   "cell_type": "markdown",
   "id": "suspended-cuisine",
   "metadata": {
    "papermill": {
     "duration": 0.02533,
     "end_time": "2021-08-03T07:12:37.255659",
     "exception": false,
     "start_time": "2021-08-03T07:12:37.230329",
     "status": "completed"
    },
    "tags": []
   },
   "source": [
    "**MV column name contain space so it creates problem so i the change column name**"
   ]
  },
  {
   "cell_type": "code",
   "execution_count": null,
   "id": "medieval-friday",
   "metadata": {
    "execution": {
     "iopub.execute_input": "2021-08-03T07:12:37.317091Z",
     "iopub.status.busy": "2021-08-03T07:12:37.315826Z",
     "iopub.status.idle": "2021-08-03T07:12:37.319263Z",
     "shell.execute_reply": "2021-08-03T07:12:37.319825Z",
     "shell.execute_reply.started": "2021-06-08T09:48:06.745933Z"
    },
    "papermill": {
     "duration": 0.036612,
     "end_time": "2021-08-03T07:12:37.320008",
     "exception": false,
     "start_time": "2021-08-03T07:12:37.283396",
     "status": "completed"
    },
    "tags": []
   },
   "outputs": [
    {
     "data": {
      "text/plain": [
       "Index(['item_id', 'status', 'created_at', 'sku', 'price', 'qty_ordered',\n",
       "       'grand_total', 'increment_id', 'category_name_1',\n",
       "       'sales_commission_code', 'discount_amount', 'payment_method',\n",
       "       'Working Date', 'BI Status', 'MV', 'Year', 'Month', 'Customer Since',\n",
       "       'M-Y', 'FY', 'Customer ID'],\n",
       "      dtype='object')"
      ]
     },
     "execution_count": 8,
     "metadata": {},
     "output_type": "execute_result"
    }
   ],
   "source": [
    "data.rename(columns={' MV ':'MV'},inplace=True)\n",
    "data.columns"
   ]
  },
  {
   "cell_type": "markdown",
   "id": "boxed-parks",
   "metadata": {
    "papermill": {
     "duration": 0.025923,
     "end_time": "2021-08-03T07:12:37.372713",
     "exception": false,
     "start_time": "2021-08-03T07:12:37.346790",
     "status": "completed"
    },
    "tags": []
   },
   "source": [
    "**Data types conversion of some columns**"
   ]
  },
  {
   "cell_type": "code",
   "execution_count": null,
   "id": "brutal-japan",
   "metadata": {
    "execution": {
     "iopub.execute_input": "2021-08-03T07:12:37.434347Z",
     "iopub.status.busy": "2021-08-03T07:12:37.433720Z",
     "iopub.status.idle": "2021-08-03T07:12:37.985465Z",
     "shell.execute_reply": "2021-08-03T07:12:37.985970Z",
     "shell.execute_reply.started": "2021-06-08T09:48:06.754935Z"
    },
    "papermill": {
     "duration": 0.585471,
     "end_time": "2021-08-03T07:12:37.986162",
     "exception": false,
     "start_time": "2021-08-03T07:12:37.400691",
     "status": "completed"
    },
    "tags": []
   },
   "outputs": [],
   "source": [
    "data['item_id']=data['item_id'].astype(int)\n",
    "data['Customer ID']=data['Customer ID'].astype(str)\n",
    "data['qty_ordered']=data['qty_ordered'].astype(int)\n",
    "data['Year']=data['Year'].astype(int)\n",
    "data['Month']=data['Month'].astype(int)"
   ]
  },
  {
   "cell_type": "markdown",
   "id": "smart-cancellation",
   "metadata": {
    "papermill": {
     "duration": 0.025888,
     "end_time": "2021-08-03T07:12:38.038718",
     "exception": false,
     "start_time": "2021-08-03T07:12:38.012830",
     "status": "completed"
    },
    "tags": []
   },
   "source": [
    "**Change column name of category_name_1 to Category**"
   ]
  },
  {
   "cell_type": "code",
   "execution_count": null,
   "id": "light-compatibility",
   "metadata": {
    "execution": {
     "iopub.execute_input": "2021-08-03T07:12:38.095911Z",
     "iopub.status.busy": "2021-08-03T07:12:38.095072Z",
     "iopub.status.idle": "2021-08-03T07:12:38.102693Z",
     "shell.execute_reply": "2021-08-03T07:12:38.102164Z",
     "shell.execute_reply.started": "2021-06-08T09:48:29.746583Z"
    },
    "papermill": {
     "duration": 0.038002,
     "end_time": "2021-08-03T07:12:38.102874",
     "exception": false,
     "start_time": "2021-08-03T07:12:38.064872",
     "status": "completed"
    },
    "tags": []
   },
   "outputs": [
    {
     "data": {
      "text/plain": [
       "Index(['item_id', 'status', 'created_at', 'sku', 'price', 'qty_ordered',\n",
       "       'grand_total', 'increment_id', 'Category', 'sales_commission_code',\n",
       "       'discount_amount', 'payment_method', 'Working Date', 'BI Status', 'MV',\n",
       "       'Year', 'Month', 'Customer Since', 'M-Y', 'FY', 'Customer ID'],\n",
       "      dtype='object')"
      ]
     },
     "execution_count": 10,
     "metadata": {},
     "output_type": "execute_result"
    }
   ],
   "source": [
    "data.rename(columns={'category_name_1':'Category'},inplace=True)\n",
    "data.columns"
   ]
  },
  {
   "cell_type": "markdown",
   "id": "authentic-karma",
   "metadata": {
    "papermill": {
     "duration": 0.026005,
     "end_time": "2021-08-03T07:12:38.155617",
     "exception": false,
     "start_time": "2021-08-03T07:12:38.129612",
     "status": "completed"
    },
    "tags": []
   },
   "source": [
    "# **Data Analysis**"
   ]
  },
  {
   "cell_type": "markdown",
   "id": "described-intro",
   "metadata": {
    "papermill": {
     "duration": 0.026434,
     "end_time": "2021-08-03T07:12:38.208600",
     "exception": false,
     "start_time": "2021-08-03T07:12:38.182166",
     "status": "completed"
    },
    "tags": []
   },
   "source": [
    "**Analysis the top 10 selling Category and Visualize Using Barplot**"
   ]
  },
  {
   "cell_type": "code",
   "execution_count": null,
   "id": "filled-track",
   "metadata": {
    "execution": {
     "iopub.execute_input": "2021-08-03T07:12:38.267842Z",
     "iopub.status.busy": "2021-08-03T07:12:38.267165Z",
     "iopub.status.idle": "2021-08-03T07:12:38.382736Z",
     "shell.execute_reply": "2021-08-03T07:12:38.382075Z",
     "shell.execute_reply.started": "2021-06-08T09:48:48.43726Z"
    },
    "papermill": {
     "duration": 0.147848,
     "end_time": "2021-08-03T07:12:38.382907",
     "exception": false,
     "start_time": "2021-08-03T07:12:38.235059",
     "status": "completed"
    },
    "tags": []
   },
   "outputs": [
    {
     "name": "stdout",
     "output_type": "stream",
     "text": [
      "             Category   count\n",
      "9   Mobiles & Tablets  115710\n",
      "8       Men's Fashion   92221\n",
      "14    Women's Fashion   59721\n",
      "0          Appliances   52413\n",
      "13         Superstore   43613\n",
      "1   Beauty & Grooming   41496\n",
      "12            Soghaat   34011\n",
      "10             Others   29218\n",
      "6       Home & Living   26504\n",
      "4       Entertainment   26326\n"
     ]
    }
   ],
   "source": [
    "Top10Category=data.groupby('Category')['item_id'].agg(['count']).reset_index().sort_values(by='count',ascending=False).head(10)\n",
    "print(Top10Category)"
   ]
  },
  {
   "cell_type": "code",
   "execution_count": null,
   "id": "desperate-modem",
   "metadata": {
    "execution": {
     "iopub.execute_input": "2021-08-03T07:12:38.472424Z",
     "iopub.status.busy": "2021-08-03T07:12:38.471333Z",
     "iopub.status.idle": "2021-08-03T07:12:38.707062Z",
     "shell.execute_reply": "2021-08-03T07:12:38.706449Z",
     "shell.execute_reply.started": "2021-06-08T09:49:02.894279Z"
    },
    "papermill": {
     "duration": 0.296226,
     "end_time": "2021-08-03T07:12:38.707212",
     "exception": false,
     "start_time": "2021-08-03T07:12:38.410986",
     "status": "completed"
    },
    "tags": []
   },
   "outputs": [
    {
     "data": {
      "image/png": "[encoded data removed]",
      "text/plain": [
       "<Figure size 1080x360 with 1 Axes>"
      ]
     },
     "metadata": {
      "needs_background": "light"
     },
     "output_type": "display_data"
    }
   ],
   "source": [
    "plt.figure(figsize=(15,5))\n",
    "graph=sns.barplot(x='Category',y='count',data=Top10Category)\n",
    "graph.set_title('Top 10 selling Items')\n",
    "plt.show()"
   ]
  },
  {
   "cell_type": "markdown",
   "id": "dying-concern",
   "metadata": {
    "papermill": {
     "duration": 0.028327,
     "end_time": "2021-08-03T07:12:38.764250",
     "exception": false,
     "start_time": "2021-08-03T07:12:38.735923",
     "status": "completed"
    },
    "tags": []
   },
   "source": [
    "**Analysis of order status**"
   ]
  },
  {
   "cell_type": "code",
   "execution_count": null,
   "id": "weird-national",
   "metadata": {
    "execution": {
     "iopub.execute_input": "2021-08-03T07:12:38.911535Z",
     "iopub.status.busy": "2021-08-03T07:12:38.910126Z",
     "iopub.status.idle": "2021-08-03T07:12:38.927304Z",
     "shell.execute_reply": "2021-08-03T07:12:38.926651Z",
     "shell.execute_reply.started": "2021-06-08T09:49:16.420398Z"
    },
    "papermill": {
     "duration": 0.135189,
     "end_time": "2021-08-03T07:12:38.927465",
     "exception": false,
     "start_time": "2021-08-03T07:12:38.792276",
     "status": "completed"
    },
    "tags": []
   },
   "outputs": [
    {
     "name": "stdout",
     "output_type": "stream",
     "text": [
      "            status   count\n",
      "4         complete  233685\n",
      "1         canceled  201249\n",
      "14        received   77290\n",
      "8   order_refunded   59529\n",
      "15          refund    8050\n",
      "3              cod    2859\n",
      "9             paid    1159\n",
      "2           closed     494\n",
      "10  payment_review      57\n",
      "11         pending      48\n",
      "13      processing      33\n",
      "7           holded      31\n",
      "6            fraud      10\n",
      "12  pending_paypal       7\n",
      "0               \\N       4\n",
      "5         exchange       4\n"
     ]
    }
   ],
   "source": [
    "orderstatus=data.groupby('status')['item_id'].agg(['count']).reset_index().sort_values(by='count',ascending=False)\n",
    "print(orderstatus)"
   ]
  },
  {
   "cell_type": "code",
   "execution_count": null,
   "id": "scheduled-passport",
   "metadata": {
    "execution": {
     "iopub.execute_input": "2021-08-03T07:12:39.033341Z",
     "iopub.status.busy": "2021-08-03T07:12:39.032025Z",
     "iopub.status.idle": "2021-08-03T07:12:39.270344Z",
     "shell.execute_reply": "2021-08-03T07:12:39.270846Z",
     "shell.execute_reply.started": "2021-06-08T09:49:39.863764Z"
    },
    "papermill": {
     "duration": 0.314843,
     "end_time": "2021-08-03T07:12:39.271081",
     "exception": false,
     "start_time": "2021-08-03T07:12:38.956238",
     "status": "completed"
    },
    "tags": []
   },
   "outputs": [
    {
     "data": {
      "image/png": "[encoded data removed]",
      "text/plain": [
       "<Figure size 1296x720 with 1 Axes>"
      ]
     },
     "metadata": {
      "needs_background": "light"
     },
     "output_type": "display_data"
    }
   ],
   "source": [
    "plt.figure(figsize=(18,10))\n",
    "graph=sns.barplot(x='status',y='count',data=orderstatus)\n",
    "graph.set_title('Order Status')\n",
    "plt.show()"
   ]
  },
  {
   "cell_type": "markdown",
   "id": "religious-innocent",
   "metadata": {
    "papermill": {
     "duration": 0.028822,
     "end_time": "2021-08-03T07:12:39.329281",
     "exception": false,
     "start_time": "2021-08-03T07:12:39.300459",
     "status": "completed"
    },
    "tags": []
   },
   "source": [
    "**Analysis of Top Ten payment Method**"
   ]
  },
  {
   "cell_type": "code",
   "execution_count": null,
   "id": "advanced-colleague",
   "metadata": {
    "execution": {
     "iopub.execute_input": "2021-08-03T07:12:39.402989Z",
     "iopub.status.busy": "2021-08-03T07:12:39.402015Z",
     "iopub.status.idle": "2021-08-03T07:12:39.455202Z",
     "shell.execute_reply": "2021-08-03T07:12:39.454613Z",
     "shell.execute_reply.started": "2021-06-08T09:50:00.880041Z"
    },
    "papermill": {
     "duration": 0.097106,
     "end_time": "2021-08-03T07:12:39.455355",
     "exception": false,
     "start_time": "2021-08-03T07:12:39.358249",
     "status": "completed"
    },
    "tags": []
   },
   "outputs": [
    {
     "name": "stdout",
     "output_type": "stream",
     "text": [
      "     payment_method   count\n",
      "6               cod  271960\n",
      "2           Payaxis   97641\n",
      "0           Easypay   82900\n",
      "12       jazzwallet   35145\n",
      "8   easypay_voucher   31176\n",
      "4       bankalfalah   23065\n",
      "11      jazzvoucher   15633\n",
      "1        Easypay_MA   14028\n",
      "7    customercredit    7555\n",
      "3               apg    1758\n"
     ]
    }
   ],
   "source": [
    "paymethod=data.groupby('payment_method')['item_id'].agg(['count']).reset_index().sort_values(by='count',ascending=False).head(10)\n",
    "print(paymethod)"
   ]
  },
  {
   "cell_type": "code",
   "execution_count": null,
   "id": "caring-houston",
   "metadata": {
    "execution": {
     "iopub.execute_input": "2021-08-03T07:12:39.552814Z",
     "iopub.status.busy": "2021-08-03T07:12:39.546973Z",
     "iopub.status.idle": "2021-08-03T07:12:39.734002Z",
     "shell.execute_reply": "2021-08-03T07:12:39.733415Z",
     "shell.execute_reply.started": "2021-06-08T09:50:12.279298Z"
    },
    "papermill": {
     "duration": 0.248993,
     "end_time": "2021-08-03T07:12:39.734149",
     "exception": false,
     "start_time": "2021-08-03T07:12:39.485156",
     "status": "completed"
    },
    "tags": []
   },
   "outputs": [
    {
     "data": {
      "image/png": "[encoded data removed]",
      "text/plain": [
       "<Figure size 1080x360 with 1 Axes>"
      ]
     },
     "metadata": {
      "needs_background": "light"
     },
     "output_type": "display_data"
    }
   ],
   "source": [
    "plt.figure(figsize=(15,5))\n",
    "graph=sns.barplot(x='payment_method',y='count',data=paymethod)\n",
    "graph.set_title('Top 10 Payment Method')\n",
    "plt.show()"
   ]
  },
  {
   "cell_type": "markdown",
   "id": "breathing-housing",
   "metadata": {
    "papermill": {
     "duration": 0.03045,
     "end_time": "2021-08-03T07:12:39.794800",
     "exception": false,
     "start_time": "2021-08-03T07:12:39.764350",
     "status": "completed"
    },
    "tags": []
   },
   "source": [
    "**Analysis Category Grand Item In a Long Format**"
   ]
  },
  {
   "cell_type": "code",
   "execution_count": null,
   "id": "elegant-interim",
   "metadata": {
    "execution": {
     "iopub.execute_input": "2021-08-03T07:12:39.945440Z",
     "iopub.status.busy": "2021-08-03T07:12:39.883860Z",
     "iopub.status.idle": "2021-08-03T07:12:41.310121Z",
     "shell.execute_reply": "2021-08-03T07:12:41.309558Z",
     "shell.execute_reply.started": "2021-06-08T09:50:26.744182Z"
    },
    "papermill": {
     "duration": 1.485318,
     "end_time": "2021-08-03T07:12:41.310261",
     "exception": false,
     "start_time": "2021-08-03T07:12:39.824943",
     "status": "completed"
    },
    "tags": []
   },
   "outputs": [
    {
     "data": {
      "text/html": [
       "        <script type=\"text/javascript\">\n",
       "        window.PlotlyConfig = {MathJaxConfig: 'local'};\n",
       "        if (window.MathJax) {MathJax.Hub.Config({SVG: {font: \"STIX-Web\"}});}\n",
       "        if (typeof require !== 'undefined') {\n",
       "        require.undef(\"plotly\");\n",
       "        requirejs.config({\n",
       "            paths: {\n",
       "                'plotly': ['https://cdn.plot.ly/plotly-latest.min']\n",
       "            }\n",
       "        });\n",
       "        require(['plotly'], function(Plotly) {\n",
       "            window._Plotly = Plotly;\n",
       "        });\n",
       "        }\n",
       "        </script>\n",
       "        "
      ]
     },
     "metadata": {},
     "output_type": "display_data"
    },
    {
     "data": {
      "text/html": [
       "<div>                            <div id=\"6473ac01-3434-48fa-84e1-6e1173ffca2e\" class=\"plotly-graph-div\" style=\"height:525px; width:100%;\"></div>            <script type=\"text/javascript\">                require([\"plotly\"], function(Plotly) {                    window.PLOTLYENV=window.PLOTLYENV || {};                                    if (document.getElementById(\"6473ac01-3434-48fa-84e1-6e1173ffca2e\")) {                    Plotly.newPlot(                        \"6473ac01-3434-48fa-84e1-6e1173ffca2e\",                        [{\"alignmentgroup\": \"True\", \"hovertemplate\": \"status=canceled<br>Category=%{x}<br>grand_total=%{y}<extra></extra>\", \"legendgroup\": \"canceled\", \"marker\": {\"color\": \"#636efa\"}, \"name\": \"canceled\", \"offsetgroup\": \"canceled\", \"orientation\": \"v\", \"showlegend\": true, \"textposition\": \"auto\", \"type\": \"bar\", \"x\": [\"Appliances\", \"Beauty & Grooming\", \"Books\", \"Computing\", \"Entertainment\", \"Health & Sports\", \"Home & Living\", \"Kids & Baby\", \"Men's Fashion\", \"Mobiles & Tablets\", \"Others\", \"School & Education\", \"Soghaat\", \"Superstore\", \"Women's Fashion\", \"\\\\N\"], \"xaxis\": \"x\", \"y\": [357473134.53649676, 38094564.890999615, 656173.2649999998, 131307159.22299905, 302452432.27350366, 14149078.420499992, 35612232.357499845, 21508510.541000012, 73540509.1805004, 1621968345.120524, 127863522.25999992, 2052926.8075000057, 16749604.669500047, 45665904.862999745, 103564779.97250037, 12610517.13750006], \"yaxis\": \"y\"}, {\"alignmentgroup\": \"True\", \"hovertemplate\": \"status=closed<br>Category=%{x}<br>grand_total=%{y}<extra></extra>\", \"legendgroup\": \"closed\", \"marker\": {\"color\": \"#EF553B\"}, \"name\": \"closed\", \"offsetgroup\": \"closed\", \"orientation\": \"v\", \"showlegend\": true, \"textposition\": \"auto\", \"type\": \"bar\", \"x\": [\"Appliances\", \"Beauty & Grooming\", \"Books\", \"Computing\", \"Entertainment\", \"Health & Sports\", \"Home & Living\", \"Kids & Baby\", \"Men's Fashion\", \"Mobiles & Tablets\", \"Others\", \"School & Education\", \"Soghaat\", \"Superstore\", \"Women's Fashion\", \"\\\\N\"], \"xaxis\": \"x\", \"y\": [1569025.35, 171649.0, 18960.0, 174855.85, 158030.7, 37702.0, 117925.54999999999, 24548.4, 90452.5, 672399.4400000001, 5500.0, 2385.0, 101834.0, 50191.75, 402251.0, 806.0], \"yaxis\": \"y\"}, {\"alignmentgroup\": \"True\", \"hovertemplate\": \"status=cod<br>Category=%{x}<br>grand_total=%{y}<extra></extra>\", \"legendgroup\": \"cod\", \"marker\": {\"color\": \"#00cc96\"}, \"name\": \"cod\", \"offsetgroup\": \"cod\", \"orientation\": \"v\", \"showlegend\": true, \"textposition\": \"auto\", \"type\": \"bar\", \"x\": [\"Appliances\", \"Beauty & Grooming\", \"Books\", \"Computing\", \"Entertainment\", \"Health & Sports\", \"Home & Living\", \"Kids & Baby\", \"Men's Fashion\", \"Mobiles & Tablets\", \"Others\", \"School & Education\", \"Soghaat\", \"Superstore\", \"Women's Fashion\", \"\\\\N\"], \"xaxis\": \"x\", \"y\": [1426666.5000000002, 1116674.5499999998, 40584.770000000004, 344674.5, 365250.35, 144118.45, 1475471.2, 375098.08999999997, 2197441.8300000005, 694956.2100000001, 86298.8, 27218.989999999998, 206157.28999999998, 330515.5100000001, 3540198.6899999985, 1795.75], \"yaxis\": \"y\"}, {\"alignmentgroup\": \"True\", \"hovertemplate\": \"status=complete<br>Category=%{x}<br>grand_total=%{y}<extra></extra>\", \"legendgroup\": \"complete\", \"marker\": {\"color\": \"#ab63fa\"}, \"name\": \"complete\", \"offsetgroup\": \"complete\", \"orientation\": \"v\", \"showlegend\": true, \"textposition\": \"auto\", \"type\": \"bar\", \"x\": [\"Appliances\", \"Beauty & Grooming\", \"Books\", \"Computing\", \"Entertainment\", \"Health & Sports\", \"Home & Living\", \"Kids & Baby\", \"Men's Fashion\", \"Mobiles & Tablets\", \"Others\", \"School & Education\", \"Soghaat\", \"Superstore\", \"Women's Fashion\", \"\\\\N\"], \"xaxis\": \"x\", \"y\": [178511159.7154994, 32159284.933999848, 1059447.92, 35229703.43500015, 155001146.31000245, 13633819.552500015, 23125941.20199992, 11084248.705000032, 57939988.54000013, 488924856.2480075, 15720248.790000003, 2304395.5, 18068364.100500003, 33568672.098500095, 87653374.54799995, 17790337.771500036], \"yaxis\": \"y\"}, {\"alignmentgroup\": \"True\", \"hovertemplate\": \"status=holded<br>Category=%{x}<br>grand_total=%{y}<extra></extra>\", \"legendgroup\": \"holded\", \"marker\": {\"color\": \"#FFA15A\"}, \"name\": \"holded\", \"offsetgroup\": \"holded\", \"orientation\": \"v\", \"showlegend\": true, \"textposition\": \"auto\", \"type\": \"bar\", \"x\": [\"Appliances\", \"Beauty & Grooming\", \"Computing\", \"Entertainment\", \"Home & Living\", \"Men's Fashion\", \"Mobiles & Tablets\", \"School & Education\", \"Soghaat\"], \"xaxis\": \"x\", \"y\": [158793.0, 68784.0, 225852.0, 72843.0, 3748.0, 10047.5, 625967.0, 1874.0, 5622.0], \"yaxis\": \"y\"}, {\"alignmentgroup\": \"True\", \"hovertemplate\": \"status=order_refunded<br>Category=%{x}<br>grand_total=%{y}<extra></extra>\", \"legendgroup\": \"order_refunded\", \"marker\": {\"color\": \"#19d3f3\"}, \"name\": \"order_refunded\", \"offsetgroup\": \"order_refunded\", \"orientation\": \"v\", \"showlegend\": true, \"textposition\": \"auto\", \"type\": \"bar\", \"x\": [\"Appliances\", \"Beauty & Grooming\", \"Books\", \"Computing\", \"Entertainment\", \"Health & Sports\", \"Home & Living\", \"Kids & Baby\", \"Men's Fashion\", \"Mobiles & Tablets\", \"Others\", \"School & Education\", \"Soghaat\", \"Superstore\", \"Women's Fashion\", \"\\\\N\"], \"xaxis\": \"x\", \"y\": [57499196.50999997, 7444111.760000017, 369944.8999999999, 20795537.439999986, 41305973.77999999, 4858157.59, 8014107.646500001, 2992998.310000002, 26919599.144999936, 195769618.31799945, 5457998.73, 774470.8065, 2440717.7500000005, 5038901.220000002, 29023620.429000042, 4212622.120000001], \"yaxis\": \"y\"}, {\"alignmentgroup\": \"True\", \"hovertemplate\": \"status=paid<br>Category=%{x}<br>grand_total=%{y}<extra></extra>\", \"legendgroup\": \"paid\", \"marker\": {\"color\": \"#FF6692\"}, \"name\": \"paid\", \"offsetgroup\": \"paid\", \"orientation\": \"v\", \"showlegend\": true, \"textposition\": \"auto\", \"type\": \"bar\", \"x\": [\"Appliances\", \"Beauty & Grooming\", \"Books\", \"Computing\", \"Entertainment\", \"Health & Sports\", \"Home & Living\", \"Kids & Baby\", \"Men's Fashion\", \"Mobiles & Tablets\", \"Others\", \"School & Education\", \"Soghaat\", \"Superstore\", \"Women's Fashion\", \"\\\\N\"], \"xaxis\": \"x\", \"y\": [484764.86000000004, 454044.10000000027, 6765.01, 155103.164, 258241.6, 46890.40999999999, 1921395.552, 1942604.73, 398951.2900000001, 874749.35, 89336.21, 7883.95, 295671.3899999999, 1187710.1879999978, 681650.7, 4993.7], \"yaxis\": \"y\"}, {\"alignmentgroup\": \"True\", \"hovertemplate\": \"status=payment_review<br>Category=%{x}<br>grand_total=%{y}<extra></extra>\", \"legendgroup\": \"payment_review\", \"marker\": {\"color\": \"#B6E880\"}, \"name\": \"payment_review\", \"offsetgroup\": \"payment_review\", \"orientation\": \"v\", \"showlegend\": true, \"textposition\": \"auto\", \"type\": \"bar\", \"x\": [\"Appliances\", \"Beauty & Grooming\", \"Entertainment\", \"Health & Sports\", \"Men's Fashion\", \"Mobiles & Tablets\", \"Soghaat\", \"Superstore\"], \"xaxis\": \"x\", \"y\": [28330.6, 2067.5, 20149.0, 8220.75, 19227.6, 6499.0, 26985.0, 123170.25], \"yaxis\": \"y\"}, {\"alignmentgroup\": \"True\", \"hovertemplate\": \"status=pending<br>Category=%{x}<br>grand_total=%{y}<extra></extra>\", \"legendgroup\": \"pending\", \"marker\": {\"color\": \"#FF97FF\"}, \"name\": \"pending\", \"offsetgroup\": \"pending\", \"orientation\": \"v\", \"showlegend\": true, \"textposition\": \"auto\", \"type\": \"bar\", \"x\": [\"Appliances\", \"Computing\", \"Entertainment\", \"Home & Living\", \"Mobiles & Tablets\", \"Others\", \"Soghaat\", \"Women's Fashion\"], \"xaxis\": \"x\", \"y\": [66111.93, 72846.0, 188877.52000000002, 21.08, 884915.0699999998, 29001.0, 42.0, 11900.0], \"yaxis\": \"y\"}, {\"alignmentgroup\": \"True\", \"hovertemplate\": \"status=processing<br>Category=%{x}<br>grand_total=%{y}<extra></extra>\", \"legendgroup\": \"processing\", \"marker\": {\"color\": \"#FECB52\"}, \"name\": \"processing\", \"offsetgroup\": \"processing\", \"orientation\": \"v\", \"showlegend\": true, \"textposition\": \"auto\", \"type\": \"bar\", \"x\": [\"Appliances\", \"Beauty & Grooming\", \"Health & Sports\", \"Home & Living\", \"Men's Fashion\", \"Mobiles & Tablets\", \"Women's Fashion\"], \"xaxis\": \"x\", \"y\": [10262.07, 2650.0, 1484.0, 5749.0, 47772.799999999996, 2040742.0, 9024.0], \"yaxis\": \"y\"}, {\"alignmentgroup\": \"True\", \"hovertemplate\": \"status=received<br>Category=%{x}<br>grand_total=%{y}<extra></extra>\", \"legendgroup\": \"received\", \"marker\": {\"color\": \"#636efa\"}, \"name\": \"received\", \"offsetgroup\": \"received\", \"orientation\": \"v\", \"showlegend\": true, \"textposition\": \"auto\", \"type\": \"bar\", \"x\": [\"Appliances\", \"Beauty & Grooming\", \"Books\", \"Computing\", \"Entertainment\", \"Health & Sports\", \"Home & Living\", \"Kids & Baby\", \"Men's Fashion\", \"Mobiles & Tablets\", \"Others\", \"School & Education\", \"Soghaat\", \"Superstore\", \"Women's Fashion\", \"\\\\N\"], \"xaxis\": \"x\", \"y\": [55093987.686999924, 16230369.381000008, 495734.0399999997, 13187258.903, 37097154.55999994, 7719387.727, 15422206.443500005, 8336790.368000016, 28389531.187999792, 121982076.06500162, 42892519.824000016, 940161.8564999998, 7826060.175000009, 25534220.704999994, 53495495.00699979, 898776.706], \"yaxis\": \"y\"}, {\"alignmentgroup\": \"True\", \"hovertemplate\": \"status=refund<br>Category=%{x}<br>grand_total=%{y}<extra></extra>\", \"legendgroup\": \"refund\", \"marker\": {\"color\": \"#EF553B\"}, \"name\": \"refund\", \"offsetgroup\": \"refund\", \"orientation\": \"v\", \"showlegend\": true, \"textposition\": \"auto\", \"type\": \"bar\", \"x\": [\"Appliances\", \"Beauty & Grooming\", \"Books\", \"Computing\", \"Entertainment\", \"Health & Sports\", \"Home & Living\", \"Kids & Baby\", \"Men's Fashion\", \"Mobiles & Tablets\", \"Others\", \"School & Education\", \"Soghaat\", \"Superstore\", \"Women's Fashion\", \"\\\\N\"], \"xaxis\": \"x\", \"y\": [4528253.002499999, 1440589.6434999984, 28584.790000000005, 1009606.2200000006, 1990669.9399999997, 1194250.68, 2397448.7874999973, 959096.5310000001, 4581247.124999992, 5994471.199999997, 312000.9, 125767.21999999996, 622190.0499999993, 612312.1399999997, 4192986.6125000003, 308613.55], \"yaxis\": \"y\"}, {\"alignmentgroup\": \"True\", \"hovertemplate\": \"status=exchange<br>Category=%{x}<br>grand_total=%{y}<extra></extra>\", \"legendgroup\": \"exchange\", \"marker\": {\"color\": \"#00cc96\"}, \"name\": \"exchange\", \"offsetgroup\": \"exchange\", \"orientation\": \"v\", \"showlegend\": true, \"textposition\": \"auto\", \"type\": \"bar\", \"x\": [\"Computing\", \"Men's Fashion\", \"Mobiles & Tablets\", \"Women's Fashion\"], \"xaxis\": \"x\", \"y\": [340.0, 325.0, 4100.0, 999.0], \"yaxis\": \"y\"}, {\"alignmentgroup\": \"True\", \"hovertemplate\": \"status=fraud<br>Category=%{x}<br>grand_total=%{y}<extra></extra>\", \"legendgroup\": \"fraud\", \"marker\": {\"color\": \"#ab63fa\"}, \"name\": \"fraud\", \"offsetgroup\": \"fraud\", \"orientation\": \"v\", \"showlegend\": true, \"textposition\": \"auto\", \"type\": \"bar\", \"x\": [\"Computing\", \"Entertainment\", \"Home & Living\", \"Mobiles & Tablets\"], \"xaxis\": \"x\", \"y\": [42755.0, 131150.0, 120000.0, 333039.0], \"yaxis\": \"y\"}, {\"alignmentgroup\": \"True\", \"hovertemplate\": \"status=pending_paypal<br>Category=%{x}<br>grand_total=%{y}<extra></extra>\", \"legendgroup\": \"pending_paypal\", \"marker\": {\"color\": \"#FFA15A\"}, \"name\": \"pending_paypal\", \"offsetgroup\": \"pending_paypal\", \"orientation\": \"v\", \"showlegend\": true, \"textposition\": \"auto\", \"type\": \"bar\", \"x\": [\"Health & Sports\", \"Home & Living\", \"Men's Fashion\", \"Superstore\", \"Women's Fashion\"], \"xaxis\": \"x\", \"y\": [1636.5, 829.0, 3775.0, 3000.0, 1636.5], \"yaxis\": \"y\"}, {\"alignmentgroup\": \"True\", \"hovertemplate\": \"status=\\\\N<br>Category=%{x}<br>grand_total=%{y}<extra></extra>\", \"legendgroup\": \"\\\\N\", \"marker\": {\"color\": \"#19d3f3\"}, \"name\": \"\\\\N\", \"offsetgroup\": \"\\\\N\", \"orientation\": \"v\", \"showlegend\": true, \"textposition\": \"auto\", \"type\": \"bar\", \"x\": [\"\\\\N\"], \"xaxis\": \"x\", \"y\": [924.0], \"yaxis\": \"y\"}],                        {\"barmode\": \"relative\", \"legend\": {\"title\": {\"text\": \"status\"}, \"tracegroupgap\": 0}, \"margin\": {\"t\": 60}, \"template\": {\"data\": {\"bar\": [{\"error_x\": {\"color\": \"#2a3f5f\"}, \"error_y\": {\"color\": \"#2a3f5f\"}, \"marker\": {\"line\": {\"color\": \"#E5ECF6\", \"width\": 0.5}}, \"type\": \"bar\"}], \"barpolar\": [{\"marker\": {\"line\": {\"color\": \"#E5ECF6\", \"width\": 0.5}}, \"type\": \"barpolar\"}], \"carpet\": [{\"aaxis\": {\"endlinecolor\": \"#2a3f5f\", \"gridcolor\": \"white\", \"linecolor\": \"white\", \"minorgridcolor\": \"white\", \"startlinecolor\": \"#2a3f5f\"}, \"baxis\": {\"endlinecolor\": \"#2a3f5f\", \"gridcolor\": \"white\", \"linecolor\": \"white\", \"minorgridcolor\": \"white\", \"startlinecolor\": \"#2a3f5f\"}, \"type\": \"carpet\"}], \"choropleth\": [{\"colorbar\": {\"outlinewidth\": 0, \"ticks\": \"\"}, \"type\": \"choropleth\"}], \"contour\": [{\"colorbar\": {\"outlinewidth\": 0, \"ticks\": \"\"}, \"colorscale\": [[0.0, \"#0d0887\"], [0.1111111111111111, \"#46039f\"], [0.2222222222222222, \"#7201a8\"], [0.3333333333333333, \"#9c179e\"], [0.4444444444444444, \"#bd3786\"], [0.5555555555555556, \"#d8576b\"], [0.6666666666666666, \"#ed7953\"], [0.7777777777777778, \"#fb9f3a\"], [0.8888888888888888, \"#fdca26\"], [1.0, \"#f0f921\"]], \"type\": \"contour\"}], \"contourcarpet\": [{\"colorbar\": {\"outlinewidth\": 0, \"ticks\": \"\"}, \"type\": \"contourcarpet\"}], \"heatmap\": [{\"colorbar\": {\"outlinewidth\": 0, \"ticks\": \"\"}, \"colorscale\": [[0.0, \"#0d0887\"], [0.1111111111111111, \"#46039f\"], [0.2222222222222222, \"#7201a8\"], [0.3333333333333333, \"#9c179e\"], [0.4444444444444444, \"#bd3786\"], [0.5555555555555556, \"#d8576b\"], [0.6666666666666666, \"#ed7953\"], [0.7777777777777778, \"#fb9f3a\"], [0.8888888888888888, \"#fdca26\"], [1.0, \"#f0f921\"]], \"type\": \"heatmap\"}], \"heatmapgl\": [{\"colorbar\": {\"outlinewidth\": 0, \"ticks\": \"\"}, \"colorscale\": [[0.0, \"#0d0887\"], [0.1111111111111111, \"#46039f\"], [0.2222222222222222, \"#7201a8\"], [0.3333333333333333, \"#9c179e\"], [0.4444444444444444, \"#bd3786\"], [0.5555555555555556, \"#d8576b\"], [0.6666666666666666, \"#ed7953\"], [0.7777777777777778, \"#fb9f3a\"], [0.8888888888888888, \"#fdca26\"], [1.0, \"#f0f921\"]], \"type\": \"heatmapgl\"}], \"histogram\": [{\"marker\": {\"colorbar\": {\"outlinewidth\": 0, \"ticks\": \"\"}}, \"type\": \"histogram\"}], \"histogram2d\": [{\"colorbar\": {\"outlinewidth\": 0, \"ticks\": \"\"}, \"colorscale\": [[0.0, \"#0d0887\"], [0.1111111111111111, \"#46039f\"], [0.2222222222222222, \"#7201a8\"], [0.3333333333333333, \"#9c179e\"], [0.4444444444444444, \"#bd3786\"], [0.5555555555555556, \"#d8576b\"], [0.6666666666666666, \"#ed7953\"], [0.7777777777777778, \"#fb9f3a\"], [0.8888888888888888, \"#fdca26\"], [1.0, \"#f0f921\"]], \"type\": \"histogram2d\"}], \"histogram2dcontour\": [{\"colorbar\": {\"outlinewidth\": 0, \"ticks\": \"\"}, \"colorscale\": [[0.0, \"#0d0887\"], [0.1111111111111111, \"#46039f\"], [0.2222222222222222, \"#7201a8\"], [0.3333333333333333, \"#9c179e\"], [0.4444444444444444, \"#bd3786\"], [0.5555555555555556, \"#d8576b\"], [0.6666666666666666, \"#ed7953\"], [0.7777777777777778, \"#fb9f3a\"], [0.8888888888888888, \"#fdca26\"], [1.0, \"#f0f921\"]], \"type\": \"histogram2dcontour\"}], \"mesh3d\": [{\"colorbar\": {\"outlinewidth\": 0, \"ticks\": \"\"}, \"type\": \"mesh3d\"}], \"parcoords\": [{\"line\": {\"colorbar\": {\"outlinewidth\": 0, \"ticks\": \"\"}}, \"type\": \"parcoords\"}], \"pie\": [{\"automargin\": true, \"type\": \"pie\"}], \"scatter\": [{\"marker\": {\"colorbar\": {\"outlinewidth\": 0, \"ticks\": \"\"}}, \"type\": \"scatter\"}], \"scatter3d\": [{\"line\": {\"colorbar\": {\"outlinewidth\": 0, \"ticks\": \"\"}}, \"marker\": {\"colorbar\": {\"outlinewidth\": 0, \"ticks\": \"\"}}, \"type\": \"scatter3d\"}], \"scattercarpet\": [{\"marker\": {\"colorbar\": {\"outlinewidth\": 0, \"ticks\": \"\"}}, \"type\": \"scattercarpet\"}], \"scattergeo\": [{\"marker\": {\"colorbar\": {\"outlinewidth\": 0, \"ticks\": \"\"}}, \"type\": \"scattergeo\"}], \"scattergl\": [{\"marker\": {\"colorbar\": {\"outlinewidth\": 0, \"ticks\": \"\"}}, \"type\": \"scattergl\"}], \"scattermapbox\": [{\"marker\": {\"colorbar\": {\"outlinewidth\": 0, \"ticks\": \"\"}}, \"type\": \"scattermapbox\"}], \"scatterpolar\": [{\"marker\": {\"colorbar\": {\"outlinewidth\": 0, \"ticks\": \"\"}}, \"type\": \"scatterpolar\"}], \"scatterpolargl\": [{\"marker\": {\"colorbar\": {\"outlinewidth\": 0, \"ticks\": \"\"}}, \"type\": \"scatterpolargl\"}], \"scatterternary\": [{\"marker\": {\"colorbar\": {\"outlinewidth\": 0, \"ticks\": \"\"}}, \"type\": \"scatterternary\"}], \"surface\": [{\"colorbar\": {\"outlinewidth\": 0, \"ticks\": \"\"}, \"colorscale\": [[0.0, \"#0d0887\"], [0.1111111111111111, \"#46039f\"], [0.2222222222222222, \"#7201a8\"], [0.3333333333333333, \"#9c179e\"], [0.4444444444444444, \"#bd3786\"], [0.5555555555555556, \"#d8576b\"], [0.6666666666666666, \"#ed7953\"], [0.7777777777777778, \"#fb9f3a\"], [0.8888888888888888, \"#fdca26\"], [1.0, \"#f0f921\"]], \"type\": \"surface\"}], \"table\": [{\"cells\": {\"fill\": {\"color\": \"#EBF0F8\"}, \"line\": {\"color\": \"white\"}}, \"header\": {\"fill\": {\"color\": \"#C8D4E3\"}, \"line\": {\"color\": \"white\"}}, \"type\": \"table\"}]}, \"layout\": {\"annotationdefaults\": {\"arrowcolor\": \"#2a3f5f\", \"arrowhead\": 0, \"arrowwidth\": 1}, \"autotypenumbers\": \"strict\", \"coloraxis\": {\"colorbar\": {\"outlinewidth\": 0, \"ticks\": \"\"}}, \"colorscale\": {\"diverging\": [[0, \"#8e0152\"], [0.1, \"#c51b7d\"], [0.2, \"#de77ae\"], [0.3, \"#f1b6da\"], [0.4, \"#fde0ef\"], [0.5, \"#f7f7f7\"], [0.6, \"#e6f5d0\"], [0.7, \"#b8e186\"], [0.8, \"#7fbc41\"], [0.9, \"#4d9221\"], [1, \"#276419\"]], \"sequential\": [[0.0, \"#0d0887\"], [0.1111111111111111, \"#46039f\"], [0.2222222222222222, \"#7201a8\"], [0.3333333333333333, \"#9c179e\"], [0.4444444444444444, \"#bd3786\"], [0.5555555555555556, \"#d8576b\"], [0.6666666666666666, \"#ed7953\"], [0.7777777777777778, \"#fb9f3a\"], [0.8888888888888888, \"#fdca26\"], [1.0, \"#f0f921\"]], \"sequentialminus\": [[0.0, \"#0d0887\"], [0.1111111111111111, \"#46039f\"], [0.2222222222222222, \"#7201a8\"], [0.3333333333333333, \"#9c179e\"], [0.4444444444444444, \"#bd3786\"], [0.5555555555555556, \"#d8576b\"], [0.6666666666666666, \"#ed7953\"], [0.7777777777777778, \"#fb9f3a\"], [0.8888888888888888, \"#fdca26\"], [1.0, \"#f0f921\"]]}, \"colorway\": [\"#636efa\", \"#EF553B\", \"#00cc96\", \"#ab63fa\", \"#FFA15A\", \"#19d3f3\", \"#FF6692\", \"#B6E880\", \"#FF97FF\", \"#FECB52\"], \"font\": {\"color\": \"#2a3f5f\"}, \"geo\": {\"bgcolor\": \"white\", \"lakecolor\": \"white\", \"landcolor\": \"#E5ECF6\", \"showlakes\": true, \"showland\": true, \"subunitcolor\": \"white\"}, \"hoverlabel\": {\"align\": \"left\"}, \"hovermode\": \"closest\", \"mapbox\": {\"style\": \"light\"}, \"paper_bgcolor\": \"white\", \"plot_bgcolor\": \"#E5ECF6\", \"polar\": {\"angularaxis\": {\"gridcolor\": \"white\", \"linecolor\": \"white\", \"ticks\": \"\"}, \"bgcolor\": \"#E5ECF6\", \"radialaxis\": {\"gridcolor\": \"white\", \"linecolor\": \"white\", \"ticks\": \"\"}}, \"scene\": {\"xaxis\": {\"backgroundcolor\": \"#E5ECF6\", \"gridcolor\": \"white\", \"gridwidth\": 2, \"linecolor\": \"white\", \"showbackground\": true, \"ticks\": \"\", \"zerolinecolor\": \"white\"}, \"yaxis\": {\"backgroundcolor\": \"#E5ECF6\", \"gridcolor\": \"white\", \"gridwidth\": 2, \"linecolor\": \"white\", \"showbackground\": true, \"ticks\": \"\", \"zerolinecolor\": \"white\"}, \"zaxis\": {\"backgroundcolor\": \"#E5ECF6\", \"gridcolor\": \"white\", \"gridwidth\": 2, \"linecolor\": \"white\", \"showbackground\": true, \"ticks\": \"\", \"zerolinecolor\": \"white\"}}, \"shapedefaults\": {\"line\": {\"color\": \"#2a3f5f\"}}, \"ternary\": {\"aaxis\": {\"gridcolor\": \"white\", \"linecolor\": \"white\", \"ticks\": \"\"}, \"baxis\": {\"gridcolor\": \"white\", \"linecolor\": \"white\", \"ticks\": \"\"}, \"bgcolor\": \"#E5ECF6\", \"caxis\": {\"gridcolor\": \"white\", \"linecolor\": \"white\", \"ticks\": \"\"}}, \"title\": {\"x\": 0.05}, \"xaxis\": {\"automargin\": true, \"gridcolor\": \"white\", \"linecolor\": \"white\", \"ticks\": \"\", \"title\": {\"standoff\": 15}, \"zerolinecolor\": \"white\", \"zerolinewidth\": 2}, \"yaxis\": {\"automargin\": true, \"gridcolor\": \"white\", \"linecolor\": \"white\", \"ticks\": \"\", \"title\": {\"standoff\": 15}, \"zerolinecolor\": \"white\", \"zerolinewidth\": 2}}}, \"xaxis\": {\"anchor\": \"y\", \"domain\": [0.0, 1.0], \"title\": {\"text\": \"Category\"}}, \"yaxis\": {\"anchor\": \"x\", \"domain\": [0.0, 1.0], \"title\": {\"text\": \"grand_total\"}}},                        {\"responsive\": true}                    ).then(function(){\n",
       "                            \n",
       "var gd = document.getElementById('6473ac01-3434-48fa-84e1-6e1173ffca2e');\n",
       "var x = new MutationObserver(function (mutations, observer) {{\n",
       "        var display = window.getComputedStyle(gd).display;\n",
       "        if (!display || display === 'none') {{\n",
       "            console.log([gd, 'removed!']);\n",
       "            Plotly.purge(gd);\n",
       "            observer.disconnect();\n",
       "        }}\n",
       "}});\n",
       "\n",
       "// Listen for the removal of the full notebook cells\n",
       "var notebookContainer = gd.closest('#notebook-container');\n",
       "if (notebookContainer) {{\n",
       "    x.observe(notebookContainer, {childList: true});\n",
       "}}\n",
       "\n",
       "// Listen for the clearing of the current output cell\n",
       "var outputEl = gd.closest('.output');\n",
       "if (outputEl) {{\n",
       "    x.observe(outputEl, {childList: true});\n",
       "}}\n",
       "\n",
       "                        })                };                });            </script>        </div>"
      ]
     },
     "metadata": {},
     "output_type": "display_data"
    }
   ],
   "source": [
    "status=data.groupby(['Category','status'])['grand_total'].sum().reset_index()\n",
    "graph=px.bar(status,x='Category',y='grand_total',color='status')\n",
    "graph.show()"
   ]
  },
  {
   "cell_type": "markdown",
   "id": "funded-sharp",
   "metadata": {
    "papermill": {
     "duration": 0.031322,
     "end_time": "2021-08-03T07:12:41.374129",
     "exception": false,
     "start_time": "2021-08-03T07:12:41.342807",
     "status": "completed"
    },
    "tags": []
   },
   "source": [
    "**Analysis the Grand of Item Category Wise**"
   ]
  },
  {
   "cell_type": "code",
   "execution_count": null,
   "id": "norman-locking",
   "metadata": {
    "execution": {
     "iopub.execute_input": "2021-08-03T07:12:41.527738Z",
     "iopub.status.busy": "2021-08-03T07:12:41.466153Z",
     "iopub.status.idle": "2021-08-03T07:12:41.605287Z",
     "shell.execute_reply": "2021-08-03T07:12:41.604700Z",
     "shell.execute_reply.started": "2021-06-08T09:50:45.116924Z"
    },
    "papermill": {
     "duration": 0.199591,
     "end_time": "2021-08-03T07:12:41.605477",
     "exception": false,
     "start_time": "2021-08-03T07:12:41.405886",
     "status": "completed"
    },
    "tags": []
   },
   "outputs": [
    {
     "data": {
      "text/html": [
       "<div>                            <div id=\"b127ba1c-5750-431e-a788-80cd266ebc69\" class=\"plotly-graph-div\" style=\"height:525px; width:100%;\"></div>            <script type=\"text/javascript\">                require([\"plotly\"], function(Plotly) {                    window.PLOTLYENV=window.PLOTLYENV || {};                                    if (document.getElementById(\"b127ba1c-5750-431e-a788-80cd266ebc69\")) {                    Plotly.newPlot(                        \"b127ba1c-5750-431e-a788-80cd266ebc69\",                        [{\"alignmentgroup\": \"True\", \"hovertemplate\": \"Category=%{x}<br>grand_total=%{text}<extra></extra>\", \"legendgroup\": \"\", \"marker\": {\"color\": \"#636efa\"}, \"name\": \"\", \"offsetgroup\": \"\", \"orientation\": \"v\", \"showlegend\": false, \"text\": [656849685.761505, 97185738.75950272, 2676194.695000001, 202545691.734999, 539047961.0334918, 41794746.07999985, 88217075.81900036, 47237430.67499963, 194139018.69850156, 2440790684.0213943, 192465576.51400018, 6237084.13049998, 46343248.42499997, 112130876.72450079, 282577916.45900035, 35829386.73499957], \"textposition\": \"outside\", \"texttemplate\": \"%{text:.2s}\", \"type\": \"bar\", \"x\": [\"Appliances\", \"Beauty & Grooming\", \"Books\", \"Computing\", \"Entertainment\", \"Health & Sports\", \"Home & Living\", \"Kids & Baby\", \"Men's Fashion\", \"Mobiles & Tablets\", \"Others\", \"School & Education\", \"Soghaat\", \"Superstore\", \"Women's Fashion\", \"\\\\N\"], \"xaxis\": \"x\", \"y\": [656849685.761505, 97185738.75950272, 2676194.695000001, 202545691.734999, 539047961.0334918, 41794746.07999985, 88217075.81900036, 47237430.67499963, 194139018.69850156, 2440790684.0213943, 192465576.51400018, 6237084.13049998, 46343248.42499997, 112130876.72450079, 282577916.45900035, 35829386.73499957], \"yaxis\": \"y\"}],                        {\"barmode\": \"relative\", \"legend\": {\"tracegroupgap\": 0}, \"margin\": {\"t\": 60}, \"template\": {\"data\": {\"bar\": [{\"error_x\": {\"color\": \"#2a3f5f\"}, \"error_y\": {\"color\": \"#2a3f5f\"}, \"marker\": {\"line\": {\"color\": \"#E5ECF6\", \"width\": 0.5}}, \"type\": \"bar\"}], \"barpolar\": [{\"marker\": {\"line\": {\"color\": \"#E5ECF6\", \"width\": 0.5}}, \"type\": \"barpolar\"}], \"carpet\": [{\"aaxis\": {\"endlinecolor\": \"#2a3f5f\", \"gridcolor\": \"white\", \"linecolor\": \"white\", \"minorgridcolor\": \"white\", \"startlinecolor\": \"#2a3f5f\"}, \"baxis\": {\"endlinecolor\": \"#2a3f5f\", \"gridcolor\": \"white\", \"linecolor\": \"white\", \"minorgridcolor\": \"white\", \"startlinecolor\": \"#2a3f5f\"}, \"type\": \"carpet\"}], \"choropleth\": [{\"colorbar\": {\"outlinewidth\": 0, \"ticks\": \"\"}, \"type\": \"choropleth\"}], \"contour\": [{\"colorbar\": {\"outlinewidth\": 0, \"ticks\": \"\"}, \"colorscale\": [[0.0, \"#0d0887\"], [0.1111111111111111, \"#46039f\"], [0.2222222222222222, \"#7201a8\"], [0.3333333333333333, \"#9c179e\"], [0.4444444444444444, \"#bd3786\"], [0.5555555555555556, \"#d8576b\"], [0.6666666666666666, \"#ed7953\"], [0.7777777777777778, \"#fb9f3a\"], [0.8888888888888888, \"#fdca26\"], [1.0, \"#f0f921\"]], \"type\": \"contour\"}], \"contourcarpet\": [{\"colorbar\": {\"outlinewidth\": 0, \"ticks\": \"\"}, \"type\": \"contourcarpet\"}], \"heatmap\": [{\"colorbar\": {\"outlinewidth\": 0, \"ticks\": \"\"}, \"colorscale\": [[0.0, \"#0d0887\"], [0.1111111111111111, \"#46039f\"], [0.2222222222222222, \"#7201a8\"], [0.3333333333333333, \"#9c179e\"], [0.4444444444444444, \"#bd3786\"], [0.5555555555555556, \"#d8576b\"], [0.6666666666666666, \"#ed7953\"], [0.7777777777777778, \"#fb9f3a\"], [0.8888888888888888, \"#fdca26\"], [1.0, \"#f0f921\"]], \"type\": \"heatmap\"}], \"heatmapgl\": [{\"colorbar\": {\"outlinewidth\": 0, \"ticks\": \"\"}, \"colorscale\": [[0.0, \"#0d0887\"], [0.1111111111111111, \"#46039f\"], [0.2222222222222222, \"#7201a8\"], [0.3333333333333333, \"#9c179e\"], [0.4444444444444444, \"#bd3786\"], [0.5555555555555556, \"#d8576b\"], [0.6666666666666666, \"#ed7953\"], [0.7777777777777778, \"#fb9f3a\"], [0.8888888888888888, \"#fdca26\"], [1.0, \"#f0f921\"]], \"type\": \"heatmapgl\"}], \"histogram\": [{\"marker\": {\"colorbar\": {\"outlinewidth\": 0, \"ticks\": \"\"}}, \"type\": \"histogram\"}], \"histogram2d\": [{\"colorbar\": {\"outlinewidth\": 0, \"ticks\": \"\"}, \"colorscale\": [[0.0, \"#0d0887\"], [0.1111111111111111, \"#46039f\"], [0.2222222222222222, \"#7201a8\"], [0.3333333333333333, \"#9c179e\"], [0.4444444444444444, \"#bd3786\"], [0.5555555555555556, \"#d8576b\"], [0.6666666666666666, \"#ed7953\"], [0.7777777777777778, \"#fb9f3a\"], [0.8888888888888888, \"#fdca26\"], [1.0, \"#f0f921\"]], \"type\": \"histogram2d\"}], \"histogram2dcontour\": [{\"colorbar\": {\"outlinewidth\": 0, \"ticks\": \"\"}, \"colorscale\": [[0.0, \"#0d0887\"], [0.1111111111111111, \"#46039f\"], [0.2222222222222222, \"#7201a8\"], [0.3333333333333333, \"#9c179e\"], [0.4444444444444444, \"#bd3786\"], [0.5555555555555556, \"#d8576b\"], [0.6666666666666666, \"#ed7953\"], [0.7777777777777778, \"#fb9f3a\"], [0.8888888888888888, \"#fdca26\"], [1.0, \"#f0f921\"]], \"type\": \"histogram2dcontour\"}], \"mesh3d\": [{\"colorbar\": {\"outlinewidth\": 0, \"ticks\": \"\"}, \"type\": \"mesh3d\"}], \"parcoords\": [{\"line\": {\"colorbar\": {\"outlinewidth\": 0, \"ticks\": \"\"}}, \"type\": \"parcoords\"}], \"pie\": [{\"automargin\": true, \"type\": \"pie\"}], \"scatter\": [{\"marker\": {\"colorbar\": {\"outlinewidth\": 0, \"ticks\": \"\"}}, \"type\": \"scatter\"}], \"scatter3d\": [{\"line\": {\"colorbar\": {\"outlinewidth\": 0, \"ticks\": \"\"}}, \"marker\": {\"colorbar\": {\"outlinewidth\": 0, \"ticks\": \"\"}}, \"type\": \"scatter3d\"}], \"scattercarpet\": [{\"marker\": {\"colorbar\": {\"outlinewidth\": 0, \"ticks\": \"\"}}, \"type\": \"scattercarpet\"}], \"scattergeo\": [{\"marker\": {\"colorbar\": {\"outlinewidth\": 0, \"ticks\": \"\"}}, \"type\": \"scattergeo\"}], \"scattergl\": [{\"marker\": {\"colorbar\": {\"outlinewidth\": 0, \"ticks\": \"\"}}, \"type\": \"scattergl\"}], \"scattermapbox\": [{\"marker\": {\"colorbar\": {\"outlinewidth\": 0, \"ticks\": \"\"}}, \"type\": \"scattermapbox\"}], \"scatterpolar\": [{\"marker\": {\"colorbar\": {\"outlinewidth\": 0, \"ticks\": \"\"}}, \"type\": \"scatterpolar\"}], \"scatterpolargl\": [{\"marker\": {\"colorbar\": {\"outlinewidth\": 0, \"ticks\": \"\"}}, \"type\": \"scatterpolargl\"}], \"scatterternary\": [{\"marker\": {\"colorbar\": {\"outlinewidth\": 0, \"ticks\": \"\"}}, \"type\": \"scatterternary\"}], \"surface\": [{\"colorbar\": {\"outlinewidth\": 0, \"ticks\": \"\"}, \"colorscale\": [[0.0, \"#0d0887\"], [0.1111111111111111, \"#46039f\"], [0.2222222222222222, \"#7201a8\"], [0.3333333333333333, \"#9c179e\"], [0.4444444444444444, \"#bd3786\"], [0.5555555555555556, \"#d8576b\"], [0.6666666666666666, \"#ed7953\"], [0.7777777777777778, \"#fb9f3a\"], [0.8888888888888888, \"#fdca26\"], [1.0, \"#f0f921\"]], \"type\": \"surface\"}], \"table\": [{\"cells\": {\"fill\": {\"color\": \"#EBF0F8\"}, \"line\": {\"color\": \"white\"}}, \"header\": {\"fill\": {\"color\": \"#C8D4E3\"}, \"line\": {\"color\": \"white\"}}, \"type\": \"table\"}]}, \"layout\": {\"annotationdefaults\": {\"arrowcolor\": \"#2a3f5f\", \"arrowhead\": 0, \"arrowwidth\": 1}, \"autotypenumbers\": \"strict\", \"coloraxis\": {\"colorbar\": {\"outlinewidth\": 0, \"ticks\": \"\"}}, \"colorscale\": {\"diverging\": [[0, \"#8e0152\"], [0.1, \"#c51b7d\"], [0.2, \"#de77ae\"], [0.3, \"#f1b6da\"], [0.4, \"#fde0ef\"], [0.5, \"#f7f7f7\"], [0.6, \"#e6f5d0\"], [0.7, \"#b8e186\"], [0.8, \"#7fbc41\"], [0.9, \"#4d9221\"], [1, \"#276419\"]], \"sequential\": [[0.0, \"#0d0887\"], [0.1111111111111111, \"#46039f\"], [0.2222222222222222, \"#7201a8\"], [0.3333333333333333, \"#9c179e\"], [0.4444444444444444, \"#bd3786\"], [0.5555555555555556, \"#d8576b\"], [0.6666666666666666, \"#ed7953\"], [0.7777777777777778, \"#fb9f3a\"], [0.8888888888888888, \"#fdca26\"], [1.0, \"#f0f921\"]], \"sequentialminus\": [[0.0, \"#0d0887\"], [0.1111111111111111, \"#46039f\"], [0.2222222222222222, \"#7201a8\"], [0.3333333333333333, \"#9c179e\"], [0.4444444444444444, \"#bd3786\"], [0.5555555555555556, \"#d8576b\"], [0.6666666666666666, \"#ed7953\"], [0.7777777777777778, \"#fb9f3a\"], [0.8888888888888888, \"#fdca26\"], [1.0, \"#f0f921\"]]}, \"colorway\": [\"#636efa\", \"#EF553B\", \"#00cc96\", \"#ab63fa\", \"#FFA15A\", \"#19d3f3\", \"#FF6692\", \"#B6E880\", \"#FF97FF\", \"#FECB52\"], \"font\": {\"color\": \"#2a3f5f\"}, \"geo\": {\"bgcolor\": \"white\", \"lakecolor\": \"white\", \"landcolor\": \"#E5ECF6\", \"showlakes\": true, \"showland\": true, \"subunitcolor\": \"white\"}, \"hoverlabel\": {\"align\": \"left\"}, \"hovermode\": \"closest\", \"mapbox\": {\"style\": \"light\"}, \"paper_bgcolor\": \"white\", \"plot_bgcolor\": \"#E5ECF6\", \"polar\": {\"angularaxis\": {\"gridcolor\": \"white\", \"linecolor\": \"white\", \"ticks\": \"\"}, \"bgcolor\": \"#E5ECF6\", \"radialaxis\": {\"gridcolor\": \"white\", \"linecolor\": \"white\", \"ticks\": \"\"}}, \"scene\": {\"xaxis\": {\"backgroundcolor\": \"#E5ECF6\", \"gridcolor\": \"white\", \"gridwidth\": 2, \"linecolor\": \"white\", \"showbackground\": true, \"ticks\": \"\", \"zerolinecolor\": \"white\"}, \"yaxis\": {\"backgroundcolor\": \"#E5ECF6\", \"gridcolor\": \"white\", \"gridwidth\": 2, \"linecolor\": \"white\", \"showbackground\": true, \"ticks\": \"\", \"zerolinecolor\": \"white\"}, \"zaxis\": {\"backgroundcolor\": \"#E5ECF6\", \"gridcolor\": \"white\", \"gridwidth\": 2, \"linecolor\": \"white\", \"showbackground\": true, \"ticks\": \"\", \"zerolinecolor\": \"white\"}}, \"shapedefaults\": {\"line\": {\"color\": \"#2a3f5f\"}}, \"ternary\": {\"aaxis\": {\"gridcolor\": \"white\", \"linecolor\": \"white\", \"ticks\": \"\"}, \"baxis\": {\"gridcolor\": \"white\", \"linecolor\": \"white\", \"ticks\": \"\"}, \"bgcolor\": \"#E5ECF6\", \"caxis\": {\"gridcolor\": \"white\", \"linecolor\": \"white\", \"ticks\": \"\"}}, \"title\": {\"x\": 0.05}, \"xaxis\": {\"automargin\": true, \"gridcolor\": \"white\", \"linecolor\": \"white\", \"ticks\": \"\", \"title\": {\"standoff\": 15}, \"zerolinecolor\": \"white\", \"zerolinewidth\": 2}, \"yaxis\": {\"automargin\": true, \"gridcolor\": \"white\", \"linecolor\": \"white\", \"ticks\": \"\", \"title\": {\"standoff\": 15}, \"zerolinecolor\": \"white\", \"zerolinewidth\": 2}}}, \"xaxis\": {\"anchor\": \"y\", \"domain\": [0.0, 1.0], \"title\": {\"text\": \"Category\"}}, \"yaxis\": {\"anchor\": \"x\", \"domain\": [0.0, 1.0], \"title\": {\"text\": \"grand_total\"}}},                        {\"responsive\": true}                    ).then(function(){\n",
       "                            \n",
       "var gd = document.getElementById('b127ba1c-5750-431e-a788-80cd266ebc69');\n",
       "var x = new MutationObserver(function (mutations, observer) {{\n",
       "        var display = window.getComputedStyle(gd).display;\n",
       "        if (!display || display === 'none') {{\n",
       "            console.log([gd, 'removed!']);\n",
       "            Plotly.purge(gd);\n",
       "            observer.disconnect();\n",
       "        }}\n",
       "}});\n",
       "\n",
       "// Listen for the removal of the full notebook cells\n",
       "var notebookContainer = gd.closest('#notebook-container');\n",
       "if (notebookContainer) {{\n",
       "    x.observe(notebookContainer, {childList: true});\n",
       "}}\n",
       "\n",
       "// Listen for the clearing of the current output cell\n",
       "var outputEl = gd.closest('.output');\n",
       "if (outputEl) {{\n",
       "    x.observe(outputEl, {childList: true});\n",
       "}}\n",
       "\n",
       "                        })                };                });            </script>        </div>"
      ]
     },
     "metadata": {},
     "output_type": "display_data"
    }
   ],
   "source": [
    "category=data.groupby(['Category'])['grand_total'].sum().reset_index()\n",
    "graph=px.bar(category,x='Category',y='grand_total',text='grand_total')\n",
    "graph.update_traces(texttemplate='%{text:.2s}', textposition='outside')\n",
    "graph.show()"
   ]
  },
  {
   "cell_type": "markdown",
   "id": "green-sight",
   "metadata": {
    "papermill": {
     "duration": 0.033821,
     "end_time": "2021-08-03T07:12:41.671795",
     "exception": false,
     "start_time": "2021-08-03T07:12:41.637974",
     "status": "completed"
    },
    "tags": []
   },
   "source": [
    "**Analysis Order Quantity of Item By Category**"
   ]
  },
  {
   "cell_type": "code",
   "execution_count": null,
   "id": "elder-smoke",
   "metadata": {
    "execution": {
     "iopub.execute_input": "2021-08-03T07:12:41.744765Z",
     "iopub.status.busy": "2021-08-03T07:12:41.744083Z",
     "iopub.status.idle": "2021-08-03T07:12:42.082189Z",
     "shell.execute_reply": "2021-08-03T07:12:42.081101Z",
     "shell.execute_reply.started": "2021-06-08T09:51:00.934273Z"
    },
    "papermill": {
     "duration": 0.376807,
     "end_time": "2021-08-03T07:12:42.082384",
     "exception": false,
     "start_time": "2021-08-03T07:12:41.705577",
     "status": "completed"
    },
    "tags": []
   },
   "outputs": [
    {
     "data": {
      "text/html": [
       "<div>                            <div id=\"fcc72813-a392-4a72-ab39-9380e3150b7e\" class=\"plotly-graph-div\" style=\"height:525px; width:100%;\"></div>            <script type=\"text/javascript\">                require([\"plotly\"], function(Plotly) {                    window.PLOTLYENV=window.PLOTLYENV || {};                                    if (document.getElementById(\"fcc72813-a392-4a72-ab39-9380e3150b7e\")) {                    Plotly.newPlot(                        \"fcc72813-a392-4a72-ab39-9380e3150b7e\",                        [{\"hovertemplate\": \"status=canceled<br>Category=%{x}<br>qty_ordered=%{y}<extra></extra>\", \"legendgroup\": \"canceled\", \"line\": {\"color\": \"#636efa\", \"dash\": \"solid\"}, \"mode\": \"lines\", \"name\": \"canceled\", \"orientation\": \"v\", \"showlegend\": true, \"type\": \"scatter\", \"x\": [\"Appliances\", \"Beauty & Grooming\", \"Books\", \"Computing\", \"Entertainment\", \"Health & Sports\", \"Home & Living\", \"Kids & Baby\", \"Men's Fashion\", \"Mobiles & Tablets\", \"Others\", \"School & Education\", \"Soghaat\", \"Superstore\", \"Women's Fashion\", \"\\\\N\"], \"xaxis\": \"x\", \"y\": [23855, 13287, 399, 7331, 13144, 4055, 8074, 4788, 24714, 63258, 52144, 878, 12377, 27939, 17076, 3904], \"yaxis\": \"y\"}, {\"hovertemplate\": \"status=closed<br>Category=%{x}<br>qty_ordered=%{y}<extra></extra>\", \"legendgroup\": \"closed\", \"line\": {\"color\": \"#EF553B\", \"dash\": \"solid\"}, \"mode\": \"lines\", \"name\": \"closed\", \"orientation\": \"v\", \"showlegend\": true, \"type\": \"scatter\", \"x\": [\"Appliances\", \"Beauty & Grooming\", \"Books\", \"Computing\", \"Entertainment\", \"Health & Sports\", \"Home & Living\", \"Kids & Baby\", \"Men's Fashion\", \"Mobiles & Tablets\", \"Others\", \"School & Education\", \"Soghaat\", \"Superstore\", \"Women's Fashion\", \"\\\\N\"], \"xaxis\": \"x\", \"y\": [98, 60, 7, 23, 7, 16, 16, 6, 67, 65, 4, 1, 24, 18, 124, 2], \"yaxis\": \"y\"}, {\"hovertemplate\": \"status=cod<br>Category=%{x}<br>qty_ordered=%{y}<extra></extra>\", \"legendgroup\": \"cod\", \"line\": {\"color\": \"#00cc96\", \"dash\": \"solid\"}, \"mode\": \"lines\", \"name\": \"cod\", \"orientation\": \"v\", \"showlegend\": true, \"type\": \"scatter\", \"x\": [\"Appliances\", \"Beauty & Grooming\", \"Books\", \"Computing\", \"Entertainment\", \"Health & Sports\", \"Home & Living\", \"Kids & Baby\", \"Men's Fashion\", \"Mobiles & Tablets\", \"Others\", \"School & Education\", \"Soghaat\", \"Superstore\", \"Women's Fashion\", \"\\\\N\"], \"xaxis\": \"x\", \"y\": [122, 376, 120, 75, 22, 100, 448, 159, 623, 181, 179, 26, 146, 244, 534, 6], \"yaxis\": \"y\"}, {\"hovertemplate\": \"status=complete<br>Category=%{x}<br>qty_ordered=%{y}<extra></extra>\", \"legendgroup\": \"complete\", \"line\": {\"color\": \"#ab63fa\", \"dash\": \"solid\"}, \"mode\": \"lines\", \"name\": \"complete\", \"orientation\": \"v\", \"showlegend\": true, \"type\": \"scatter\", \"x\": [\"Appliances\", \"Beauty & Grooming\", \"Books\", \"Computing\", \"Entertainment\", \"Health & Sports\", \"Home & Living\", \"Kids & Baby\", \"Men's Fashion\", \"Mobiles & Tablets\", \"Others\", \"School & Education\", \"Soghaat\", \"Superstore\", \"Women's Fashion\", \"\\\\N\"], \"xaxis\": \"x\", \"y\": [22304, 27448, 1196, 6134, 9610, 9597, 12558, 7773, 43575, 46559, 6020, 1849, 25826, 29248, 25656, 3636], \"yaxis\": \"y\"}, {\"hovertemplate\": \"status=holded<br>Category=%{x}<br>qty_ordered=%{y}<extra></extra>\", \"legendgroup\": \"holded\", \"line\": {\"color\": \"#FFA15A\", \"dash\": \"solid\"}, \"mode\": \"lines\", \"name\": \"holded\", \"orientation\": \"v\", \"showlegend\": true, \"type\": \"scatter\", \"x\": [\"Appliances\", \"Beauty & Grooming\", \"Computing\", \"Entertainment\", \"Home & Living\", \"Men's Fashion\", \"Mobiles & Tablets\", \"School & Education\", \"Soghaat\"], \"xaxis\": \"x\", \"y\": [3, 7, 2, 2, 2, 6, 10, 1, 3], \"yaxis\": \"y\"}, {\"hovertemplate\": \"status=order_refunded<br>Category=%{x}<br>qty_ordered=%{y}<extra></extra>\", \"legendgroup\": \"order_refunded\", \"line\": {\"color\": \"#19d3f3\", \"dash\": \"solid\"}, \"mode\": \"lines\", \"name\": \"order_refunded\", \"orientation\": \"v\", \"showlegend\": true, \"type\": \"scatter\", \"x\": [\"Appliances\", \"Beauty & Grooming\", \"Books\", \"Computing\", \"Entertainment\", \"Health & Sports\", \"Home & Living\", \"Kids & Baby\", \"Men's Fashion\", \"Mobiles & Tablets\", \"Others\", \"School & Education\", \"Soghaat\", \"Superstore\", \"Women's Fashion\", \"\\\\N\"], \"xaxis\": \"x\", \"y\": [5290, 4245, 297, 1776, 2187, 2598, 2997, 2093, 16256, 12388, 6156, 643, 2825, 3984, 8798, 1760], \"yaxis\": \"y\"}, {\"hovertemplate\": \"status=paid<br>Category=%{x}<br>qty_ordered=%{y}<extra></extra>\", \"legendgroup\": \"paid\", \"line\": {\"color\": \"#FF6692\", \"dash\": \"solid\"}, \"mode\": \"lines\", \"name\": \"paid\", \"orientation\": \"v\", \"showlegend\": true, \"type\": \"scatter\", \"x\": [\"Appliances\", \"Beauty & Grooming\", \"Books\", \"Computing\", \"Entertainment\", \"Health & Sports\", \"Home & Living\", \"Kids & Baby\", \"Men's Fashion\", \"Mobiles & Tablets\", \"Others\", \"School & Education\", \"Soghaat\", \"Superstore\", \"Women's Fashion\", \"\\\\N\"], \"xaxis\": \"x\", \"y\": [46, 166, 20, 22, 22, 28, 99, 70, 115, 90, 91, 5, 129, 690, 126, 3], \"yaxis\": \"y\"}, {\"hovertemplate\": \"status=payment_review<br>Category=%{x}<br>qty_ordered=%{y}<extra></extra>\", \"legendgroup\": \"payment_review\", \"line\": {\"color\": \"#B6E880\", \"dash\": \"solid\"}, \"mode\": \"lines\", \"name\": \"payment_review\", \"orientation\": \"v\", \"showlegend\": true, \"type\": \"scatter\", \"x\": [\"Appliances\", \"Beauty & Grooming\", \"Entertainment\", \"Health & Sports\", \"Men's Fashion\", \"Mobiles & Tablets\", \"Soghaat\", \"Superstore\"], \"xaxis\": \"x\", \"y\": [12, 2, 1, 4, 6, 1, 16, 126], \"yaxis\": \"y\"}, {\"hovertemplate\": \"status=pending<br>Category=%{x}<br>qty_ordered=%{y}<extra></extra>\", \"legendgroup\": \"pending\", \"line\": {\"color\": \"#FF97FF\", \"dash\": \"solid\"}, \"mode\": \"lines\", \"name\": \"pending\", \"orientation\": \"v\", \"showlegend\": true, \"type\": \"scatter\", \"x\": [\"Appliances\", \"Computing\", \"Entertainment\", \"Home & Living\", \"Mobiles & Tablets\", \"Others\", \"Soghaat\", \"Women's Fashion\"], \"xaxis\": \"x\", \"y\": [14, 3, 11, 1, 25, 9, 1, 6], \"yaxis\": \"y\"}, {\"hovertemplate\": \"status=processing<br>Category=%{x}<br>qty_ordered=%{y}<extra></extra>\", \"legendgroup\": \"processing\", \"line\": {\"color\": \"#FECB52\", \"dash\": \"solid\"}, \"mode\": \"lines\", \"name\": \"processing\", \"orientation\": \"v\", \"showlegend\": true, \"type\": \"scatter\", \"x\": [\"Appliances\", \"Beauty & Grooming\", \"Health & Sports\", \"Home & Living\", \"Men's Fashion\", \"Mobiles & Tablets\", \"Women's Fashion\"], \"xaxis\": \"x\", \"y\": [1, 1, 1, 1, 20, 9, 3], \"yaxis\": \"y\"}, {\"hovertemplate\": \"status=received<br>Category=%{x}<br>qty_ordered=%{y}<extra></extra>\", \"legendgroup\": \"received\", \"line\": {\"color\": \"#636efa\", \"dash\": \"solid\"}, \"mode\": \"lines\", \"name\": \"received\", \"orientation\": \"v\", \"showlegend\": true, \"type\": \"scatter\", \"x\": [\"Appliances\", \"Beauty & Grooming\", \"Books\", \"Computing\", \"Entertainment\", \"Health & Sports\", \"Home & Living\", \"Kids & Baby\", \"Men's Fashion\", \"Mobiles & Tablets\", \"Others\", \"School & Education\", \"Soghaat\", \"Superstore\", \"Women's Fashion\", \"\\\\N\"], \"xaxis\": \"x\", \"y\": [5797, 7420, 557, 1625, 2256, 4766, 5189, 3271, 13377, 9133, 20031, 667, 5531, 19733, 10764, 162], \"yaxis\": \"y\"}, {\"hovertemplate\": \"status=refund<br>Category=%{x}<br>qty_ordered=%{y}<extra></extra>\", \"legendgroup\": \"refund\", \"line\": {\"color\": \"#EF553B\", \"dash\": \"solid\"}, \"mode\": \"lines\", \"name\": \"refund\", \"orientation\": \"v\", \"showlegend\": true, \"type\": \"scatter\", \"x\": [\"Appliances\", \"Beauty & Grooming\", \"Books\", \"Computing\", \"Entertainment\", \"Health & Sports\", \"Home & Living\", \"Kids & Baby\", \"Men's Fashion\", \"Mobiles & Tablets\", \"Others\", \"School & Education\", \"Soghaat\", \"Superstore\", \"Women's Fashion\", \"\\\\N\"], \"xaxis\": \"x\", \"y\": [661, 777, 45, 258, 154, 254, 678, 400, 2660, 968, 274, 66, 540, 555, 1127, 168], \"yaxis\": \"y\"}, {\"hovertemplate\": \"status=exchange<br>Category=%{x}<br>qty_ordered=%{y}<extra></extra>\", \"legendgroup\": \"exchange\", \"line\": {\"color\": \"#00cc96\", \"dash\": \"solid\"}, \"mode\": \"lines\", \"name\": \"exchange\", \"orientation\": \"v\", \"showlegend\": true, \"type\": \"scatter\", \"x\": [\"Computing\", \"Men's Fashion\", \"Mobiles & Tablets\", \"Women's Fashion\"], \"xaxis\": \"x\", \"y\": [1, 1, 1, 1], \"yaxis\": \"y\"}, {\"hovertemplate\": \"status=fraud<br>Category=%{x}<br>qty_ordered=%{y}<extra></extra>\", \"legendgroup\": \"fraud\", \"line\": {\"color\": \"#ab63fa\", \"dash\": \"solid\"}, \"mode\": \"lines\", \"name\": \"fraud\", \"orientation\": \"v\", \"showlegend\": true, \"type\": \"scatter\", \"x\": [\"Computing\", \"Entertainment\", \"Home & Living\", \"Mobiles & Tablets\"], \"xaxis\": \"x\", \"y\": [1, 2, 1, 6], \"yaxis\": \"y\"}, {\"hovertemplate\": \"status=pending_paypal<br>Category=%{x}<br>qty_ordered=%{y}<extra></extra>\", \"legendgroup\": \"pending_paypal\", \"line\": {\"color\": \"#FFA15A\", \"dash\": \"solid\"}, \"mode\": \"lines\", \"name\": \"pending_paypal\", \"orientation\": \"v\", \"showlegend\": true, \"type\": \"scatter\", \"x\": [\"Health & Sports\", \"Home & Living\", \"Men's Fashion\", \"Superstore\", \"Women's Fashion\"], \"xaxis\": \"x\", \"y\": [1, 1, 3, 3, 1], \"yaxis\": \"y\"}, {\"hovertemplate\": \"status=\\\\N<br>Category=%{x}<br>qty_ordered=%{y}<extra></extra>\", \"legendgroup\": \"\\\\N\", \"line\": {\"color\": \"#19d3f3\", \"dash\": \"solid\"}, \"mode\": \"lines\", \"name\": \"\\\\N\", \"orientation\": \"v\", \"showlegend\": true, \"type\": \"scatter\", \"x\": [\"\\\\N\"], \"xaxis\": \"x\", \"y\": [6], \"yaxis\": \"y\"}],                        {\"legend\": {\"title\": {\"text\": \"status\"}, \"tracegroupgap\": 0}, \"margin\": {\"t\": 60}, \"template\": {\"data\": {\"bar\": [{\"error_x\": {\"color\": \"#2a3f5f\"}, \"error_y\": {\"color\": \"#2a3f5f\"}, \"marker\": {\"line\": {\"color\": \"#E5ECF6\", \"width\": 0.5}}, \"type\": \"bar\"}], \"barpolar\": [{\"marker\": {\"line\": {\"color\": \"#E5ECF6\", \"width\": 0.5}}, \"type\": \"barpolar\"}], \"carpet\": [{\"aaxis\": {\"endlinecolor\": \"#2a3f5f\", \"gridcolor\": \"white\", \"linecolor\": \"white\", \"minorgridcolor\": \"white\", \"startlinecolor\": \"#2a3f5f\"}, \"baxis\": {\"endlinecolor\": \"#2a3f5f\", \"gridcolor\": \"white\", \"linecolor\": \"white\", \"minorgridcolor\": \"white\", \"startlinecolor\": \"#2a3f5f\"}, \"type\": \"carpet\"}], \"choropleth\": [{\"colorbar\": {\"outlinewidth\": 0, \"ticks\": \"\"}, \"type\": \"choropleth\"}], \"contour\": [{\"colorbar\": {\"outlinewidth\": 0, \"ticks\": \"\"}, \"colorscale\": [[0.0, \"#0d0887\"], [0.1111111111111111, \"#46039f\"], [0.2222222222222222, \"#7201a8\"], [0.3333333333333333, \"#9c179e\"], [0.4444444444444444, \"#bd3786\"], [0.5555555555555556, \"#d8576b\"], [0.6666666666666666, \"#ed7953\"], [0.7777777777777778, \"#fb9f3a\"], [0.8888888888888888, \"#fdca26\"], [1.0, \"#f0f921\"]], \"type\": \"contour\"}], \"contourcarpet\": [{\"colorbar\": {\"outlinewidth\": 0, \"ticks\": \"\"}, \"type\": \"contourcarpet\"}], \"heatmap\": [{\"colorbar\": {\"outlinewidth\": 0, \"ticks\": \"\"}, \"colorscale\": [[0.0, \"#0d0887\"], [0.1111111111111111, \"#46039f\"], [0.2222222222222222, \"#7201a8\"], [0.3333333333333333, \"#9c179e\"], [0.4444444444444444, \"#bd3786\"], [0.5555555555555556, \"#d8576b\"], [0.6666666666666666, \"#ed7953\"], [0.7777777777777778, \"#fb9f3a\"], [0.8888888888888888, \"#fdca26\"], [1.0, \"#f0f921\"]], \"type\": \"heatmap\"}], \"heatmapgl\": [{\"colorbar\": {\"outlinewidth\": 0, \"ticks\": \"\"}, \"colorscale\": [[0.0, \"#0d0887\"], [0.1111111111111111, \"#46039f\"], [0.2222222222222222, \"#7201a8\"], [0.3333333333333333, \"#9c179e\"], [0.4444444444444444, \"#bd3786\"], [0.5555555555555556, \"#d8576b\"], [0.6666666666666666, \"#ed7953\"], [0.7777777777777778, \"#fb9f3a\"], [0.8888888888888888, \"#fdca26\"], [1.0, \"#f0f921\"]], \"type\": \"heatmapgl\"}], \"histogram\": [{\"marker\": {\"colorbar\": {\"outlinewidth\": 0, \"ticks\": \"\"}}, \"type\": \"histogram\"}], \"histogram2d\": [{\"colorbar\": {\"outlinewidth\": 0, \"ticks\": \"\"}, \"colorscale\": [[0.0, \"#0d0887\"], [0.1111111111111111, \"#46039f\"], [0.2222222222222222, \"#7201a8\"], [0.3333333333333333, \"#9c179e\"], [0.4444444444444444, \"#bd3786\"], [0.5555555555555556, \"#d8576b\"], [0.6666666666666666, \"#ed7953\"], [0.7777777777777778, \"#fb9f3a\"], [0.8888888888888888, \"#fdca26\"], [1.0, \"#f0f921\"]], \"type\": \"histogram2d\"}], \"histogram2dcontour\": [{\"colorbar\": {\"outlinewidth\": 0, \"ticks\": \"\"}, \"colorscale\": [[0.0, \"#0d0887\"], [0.1111111111111111, \"#46039f\"], [0.2222222222222222, \"#7201a8\"], [0.3333333333333333, \"#9c179e\"], [0.4444444444444444, \"#bd3786\"], [0.5555555555555556, \"#d8576b\"], [0.6666666666666666, \"#ed7953\"], [0.7777777777777778, \"#fb9f3a\"], [0.8888888888888888, \"#fdca26\"], [1.0, \"#f0f921\"]], \"type\": \"histogram2dcontour\"}], \"mesh3d\": [{\"colorbar\": {\"outlinewidth\": 0, \"ticks\": \"\"}, \"type\": \"mesh3d\"}], \"parcoords\": [{\"line\": {\"colorbar\": {\"outlinewidth\": 0, \"ticks\": \"\"}}, \"type\": \"parcoords\"}], \"pie\": [{\"automargin\": true, \"type\": \"pie\"}], \"scatter\": [{\"marker\": {\"colorbar\": {\"outlinewidth\": 0, \"ticks\": \"\"}}, \"type\": \"scatter\"}], \"scatter3d\": [{\"line\": {\"colorbar\": {\"outlinewidth\": 0, \"ticks\": \"\"}}, \"marker\": {\"colorbar\": {\"outlinewidth\": 0, \"ticks\": \"\"}}, \"type\": \"scatter3d\"}], \"scattercarpet\": [{\"marker\": {\"colorbar\": {\"outlinewidth\": 0, \"ticks\": \"\"}}, \"type\": \"scattercarpet\"}], \"scattergeo\": [{\"marker\": {\"colorbar\": {\"outlinewidth\": 0, \"ticks\": \"\"}}, \"type\": \"scattergeo\"}], \"scattergl\": [{\"marker\": {\"colorbar\": {\"outlinewidth\": 0, \"ticks\": \"\"}}, \"type\": \"scattergl\"}], \"scattermapbox\": [{\"marker\": {\"colorbar\": {\"outlinewidth\": 0, \"ticks\": \"\"}}, \"type\": \"scattermapbox\"}], \"scatterpolar\": [{\"marker\": {\"colorbar\": {\"outlinewidth\": 0, \"ticks\": \"\"}}, \"type\": \"scatterpolar\"}], \"scatterpolargl\": [{\"marker\": {\"colorbar\": {\"outlinewidth\": 0, \"ticks\": \"\"}}, \"type\": \"scatterpolargl\"}], \"scatterternary\": [{\"marker\": {\"colorbar\": {\"outlinewidth\": 0, \"ticks\": \"\"}}, \"type\": \"scatterternary\"}], \"surface\": [{\"colorbar\": {\"outlinewidth\": 0, \"ticks\": \"\"}, \"colorscale\": [[0.0, \"#0d0887\"], [0.1111111111111111, \"#46039f\"], [0.2222222222222222, \"#7201a8\"], [0.3333333333333333, \"#9c179e\"], [0.4444444444444444, \"#bd3786\"], [0.5555555555555556, \"#d8576b\"], [0.6666666666666666, \"#ed7953\"], [0.7777777777777778, \"#fb9f3a\"], [0.8888888888888888, \"#fdca26\"], [1.0, \"#f0f921\"]], \"type\": \"surface\"}], \"table\": [{\"cells\": {\"fill\": {\"color\": \"#EBF0F8\"}, \"line\": {\"color\": \"white\"}}, \"header\": {\"fill\": {\"color\": \"#C8D4E3\"}, \"line\": {\"color\": \"white\"}}, \"type\": \"table\"}]}, \"layout\": {\"annotationdefaults\": {\"arrowcolor\": \"#2a3f5f\", \"arrowhead\": 0, \"arrowwidth\": 1}, \"autotypenumbers\": \"strict\", \"coloraxis\": {\"colorbar\": {\"outlinewidth\": 0, \"ticks\": \"\"}}, \"colorscale\": {\"diverging\": [[0, \"#8e0152\"], [0.1, \"#c51b7d\"], [0.2, \"#de77ae\"], [0.3, \"#f1b6da\"], [0.4, \"#fde0ef\"], [0.5, \"#f7f7f7\"], [0.6, \"#e6f5d0\"], [0.7, \"#b8e186\"], [0.8, \"#7fbc41\"], [0.9, \"#4d9221\"], [1, \"#276419\"]], \"sequential\": [[0.0, \"#0d0887\"], [0.1111111111111111, \"#46039f\"], [0.2222222222222222, \"#7201a8\"], [0.3333333333333333, \"#9c179e\"], [0.4444444444444444, \"#bd3786\"], [0.5555555555555556, \"#d8576b\"], [0.6666666666666666, \"#ed7953\"], [0.7777777777777778, \"#fb9f3a\"], [0.8888888888888888, \"#fdca26\"], [1.0, \"#f0f921\"]], \"sequentialminus\": [[0.0, \"#0d0887\"], [0.1111111111111111, \"#46039f\"], [0.2222222222222222, \"#7201a8\"], [0.3333333333333333, \"#9c179e\"], [0.4444444444444444, \"#bd3786\"], [0.5555555555555556, \"#d8576b\"], [0.6666666666666666, \"#ed7953\"], [0.7777777777777778, \"#fb9f3a\"], [0.8888888888888888, \"#fdca26\"], [1.0, \"#f0f921\"]]}, \"colorway\": [\"#636efa\", \"#EF553B\", \"#00cc96\", \"#ab63fa\", \"#FFA15A\", \"#19d3f3\", \"#FF6692\", \"#B6E880\", \"#FF97FF\", \"#FECB52\"], \"font\": {\"color\": \"#2a3f5f\"}, \"geo\": {\"bgcolor\": \"white\", \"lakecolor\": \"white\", \"landcolor\": \"#E5ECF6\", \"showlakes\": true, \"showland\": true, \"subunitcolor\": \"white\"}, \"hoverlabel\": {\"align\": \"left\"}, \"hovermode\": \"closest\", \"mapbox\": {\"style\": \"light\"}, \"paper_bgcolor\": \"white\", \"plot_bgcolor\": \"#E5ECF6\", \"polar\": {\"angularaxis\": {\"gridcolor\": \"white\", \"linecolor\": \"white\", \"ticks\": \"\"}, \"bgcolor\": \"#E5ECF6\", \"radialaxis\": {\"gridcolor\": \"white\", \"linecolor\": \"white\", \"ticks\": \"\"}}, \"scene\": {\"xaxis\": {\"backgroundcolor\": \"#E5ECF6\", \"gridcolor\": \"white\", \"gridwidth\": 2, \"linecolor\": \"white\", \"showbackground\": true, \"ticks\": \"\", \"zerolinecolor\": \"white\"}, \"yaxis\": {\"backgroundcolor\": \"#E5ECF6\", \"gridcolor\": \"white\", \"gridwidth\": 2, \"linecolor\": \"white\", \"showbackground\": true, \"ticks\": \"\", \"zerolinecolor\": \"white\"}, \"zaxis\": {\"backgroundcolor\": \"#E5ECF6\", \"gridcolor\": \"white\", \"gridwidth\": 2, \"linecolor\": \"white\", \"showbackground\": true, \"ticks\": \"\", \"zerolinecolor\": \"white\"}}, \"shapedefaults\": {\"line\": {\"color\": \"#2a3f5f\"}}, \"ternary\": {\"aaxis\": {\"gridcolor\": \"white\", \"linecolor\": \"white\", \"ticks\": \"\"}, \"baxis\": {\"gridcolor\": \"white\", \"linecolor\": \"white\", \"ticks\": \"\"}, \"bgcolor\": \"#E5ECF6\", \"caxis\": {\"gridcolor\": \"white\", \"linecolor\": \"white\", \"ticks\": \"\"}}, \"title\": {\"x\": 0.05}, \"xaxis\": {\"automargin\": true, \"gridcolor\": \"white\", \"linecolor\": \"white\", \"ticks\": \"\", \"title\": {\"standoff\": 15}, \"zerolinecolor\": \"white\", \"zerolinewidth\": 2}, \"yaxis\": {\"automargin\": true, \"gridcolor\": \"white\", \"linecolor\": \"white\", \"ticks\": \"\", \"title\": {\"standoff\": 15}, \"zerolinecolor\": \"white\", \"zerolinewidth\": 2}}}, \"xaxis\": {\"anchor\": \"y\", \"domain\": [0.0, 1.0], \"title\": {\"text\": \"Category\"}}, \"yaxis\": {\"anchor\": \"x\", \"domain\": [0.0, 1.0], \"title\": {\"text\": \"qty_ordered\"}}},                        {\"responsive\": true}                    ).then(function(){\n",
       "                            \n",
       "var gd = document.getElementById('fcc72813-a392-4a72-ab39-9380e3150b7e');\n",
       "var x = new MutationObserver(function (mutations, observer) {{\n",
       "        var display = window.getComputedStyle(gd).display;\n",
       "        if (!display || display === 'none') {{\n",
       "            console.log([gd, 'removed!']);\n",
       "            Plotly.purge(gd);\n",
       "            observer.disconnect();\n",
       "        }}\n",
       "}});\n",
       "\n",
       "// Listen for the removal of the full notebook cells\n",
       "var notebookContainer = gd.closest('#notebook-container');\n",
       "if (notebookContainer) {{\n",
       "    x.observe(notebookContainer, {childList: true});\n",
       "}}\n",
       "\n",
       "// Listen for the clearing of the current output cell\n",
       "var outputEl = gd.closest('.output');\n",
       "if (outputEl) {{\n",
       "    x.observe(outputEl, {childList: true});\n",
       "}}\n",
       "\n",
       "                        })                };                });            </script>        </div>"
      ]
     },
     "metadata": {},
     "output_type": "display_data"
    }
   ],
   "source": [
    "status=data.groupby(['Category','status'])['qty_ordered'].sum().reset_index()\n",
    "graph=px.line(status,x='Category',y='qty_ordered',color='status')\n",
    "graph.show()"
   ]
  },
  {
   "cell_type": "markdown",
   "id": "surrounded-tuition",
   "metadata": {
    "papermill": {
     "duration": 0.034124,
     "end_time": "2021-08-03T07:12:42.151331",
     "exception": false,
     "start_time": "2021-08-03T07:12:42.117207",
     "status": "completed"
    },
    "tags": []
   },
   "source": [
    "**Analysis Quantity Ordered In a Long format Using Scatter Graph**"
   ]
  },
  {
   "cell_type": "code",
   "execution_count": null,
   "id": "compact-homeless",
   "metadata": {
    "execution": {
     "iopub.execute_input": "2021-08-03T07:12:42.226442Z",
     "iopub.status.busy": "2021-08-03T07:12:42.225769Z",
     "iopub.status.idle": "2021-08-03T07:12:42.599840Z",
     "shell.execute_reply": "2021-08-03T07:12:42.600351Z",
     "shell.execute_reply.started": "2021-06-08T09:51:28.639906Z"
    },
    "papermill": {
     "duration": 0.414715,
     "end_time": "2021-08-03T07:12:42.600547",
     "exception": false,
     "start_time": "2021-08-03T07:12:42.185832",
     "status": "completed"
    },
    "tags": []
   },
   "outputs": [
    {
     "data": {
      "text/html": [
       "<div>                            <div id=\"cd83424c-afb8-4ce3-ab17-f02f346464f8\" class=\"plotly-graph-div\" style=\"height:525px; width:100%;\"></div>            <script type=\"text/javascript\">                require([\"plotly\"], function(Plotly) {                    window.PLOTLYENV=window.PLOTLYENV || {};                                    if (document.getElementById(\"cd83424c-afb8-4ce3-ab17-f02f346464f8\")) {                    Plotly.newPlot(                        \"cd83424c-afb8-4ce3-ab17-f02f346464f8\",                        [{\"customdata\": [[\"canceled\", 2016], [\"canceled\", 2016], [\"canceled\", 2016], [\"canceled\", 2016], [\"canceled\", 2016], [\"canceled\", 2016], [\"canceled\", 2016], [\"canceled\", 2016], [\"canceled\", 2016], [\"canceled\", 2016], [\"canceled\", 2016], [\"canceled\", 2016], [\"canceled\", 2016], [\"canceled\", 2016], [\"canceled\", 2016], [\"canceled\", 2016], [\"canceled\", 2017], [\"canceled\", 2017], [\"canceled\", 2017], [\"canceled\", 2017], [\"canceled\", 2017], [\"canceled\", 2017], [\"canceled\", 2017], [\"canceled\", 2017], [\"canceled\", 2017], [\"canceled\", 2017], [\"canceled\", 2017], [\"canceled\", 2017], [\"canceled\", 2017], [\"canceled\", 2017], [\"canceled\", 2017], [\"canceled\", 2017], [\"canceled\", 2018], [\"canceled\", 2018], [\"canceled\", 2018], [\"canceled\", 2018], [\"canceled\", 2018], [\"canceled\", 2018], [\"canceled\", 2018], [\"canceled\", 2018], [\"canceled\", 2018], [\"canceled\", 2018], [\"canceled\", 2018], [\"canceled\", 2018], [\"canceled\", 2018], [\"canceled\", 2018], [\"canceled\", 2018]], \"hovertemplate\": \"status=%{customdata[0]}<br>Category=%{x}<br>qty_ordered=%{marker.size}<br>Year=%{customdata[1]}<extra></extra>\", \"legendgroup\": \"canceled\", \"marker\": {\"color\": \"#636efa\", \"size\": [4266, 3052, 61, 1881, 2101, 1022, 1972, 702, 5000, 10315, 798, 248, 4775, 2462, 2809, 2855, 11913, 6597, 194, 3458, 6529, 1599, 4361, 2993, 13253, 32556, 2910, 338, 5505, 18655, 9524, 1049, 7676, 3638, 144, 1992, 4514, 1434, 1741, 1093, 6461, 20387, 48436, 292, 2097, 6822, 4743], \"sizemode\": \"area\", \"sizeref\": 121.09, \"symbol\": \"circle\"}, \"mode\": \"markers\", \"name\": \"canceled\", \"orientation\": \"v\", \"showlegend\": true, \"type\": \"scatter\", \"x\": [\"Appliances\", \"Beauty & Grooming\", \"Books\", \"Computing\", \"Entertainment\", \"Health & Sports\", \"Home & Living\", \"Kids & Baby\", \"Men's Fashion\", \"Mobiles & Tablets\", \"Others\", \"School & Education\", \"Soghaat\", \"Superstore\", \"Women's Fashion\", \"\\\\N\", \"Appliances\", \"Beauty & Grooming\", \"Books\", \"Computing\", \"Entertainment\", \"Health & Sports\", \"Home & Living\", \"Kids & Baby\", \"Men's Fashion\", \"Mobiles & Tablets\", \"Others\", \"School & Education\", \"Soghaat\", \"Superstore\", \"Women's Fashion\", \"\\\\N\", \"Appliances\", \"Beauty & Grooming\", \"Books\", \"Computing\", \"Entertainment\", \"Health & Sports\", \"Home & Living\", \"Kids & Baby\", \"Men's Fashion\", \"Mobiles & Tablets\", \"Others\", \"School & Education\", \"Soghaat\", \"Superstore\", \"Women's Fashion\"], \"xaxis\": \"x\", \"y\": [4266, 3052, 61, 1881, 2101, 1022, 1972, 702, 5000, 10315, 798, 248, 4775, 2462, 2809, 2855, 11913, 6597, 194, 3458, 6529, 1599, 4361, 2993, 13253, 32556, 2910, 338, 5505, 18655, 9524, 1049, 7676, 3638, 144, 1992, 4514, 1434, 1741, 1093, 6461, 20387, 48436, 292, 2097, 6822, 4743], \"yaxis\": \"y\"}, {\"customdata\": [[\"closed\", 2016], [\"closed\", 2016], [\"closed\", 2016], [\"closed\", 2016], [\"closed\", 2016], [\"closed\", 2016], [\"closed\", 2016], [\"closed\", 2016], [\"closed\", 2016], [\"closed\", 2016], [\"closed\", 2016], [\"closed\", 2016], [\"closed\", 2016], [\"closed\", 2017], [\"closed\", 2017], [\"closed\", 2017], [\"closed\", 2017], [\"closed\", 2017], [\"closed\", 2017], [\"closed\", 2017], [\"closed\", 2017], [\"closed\", 2017], [\"closed\", 2017], [\"closed\", 2018], [\"closed\", 2018], [\"closed\", 2018], [\"closed\", 2018], [\"closed\", 2018], [\"closed\", 2018], [\"closed\", 2018], [\"closed\", 2018], [\"closed\", 2018], [\"closed\", 2018], [\"closed\", 2018], [\"closed\", 2018], [\"closed\", 2018], [\"closed\", 2018]], \"hovertemplate\": \"status=%{customdata[0]}<br>Category=%{x}<br>qty_ordered=%{marker.size}<br>Year=%{customdata[1]}<extra></extra>\", \"legendgroup\": \"closed\", \"marker\": {\"color\": \"#EF553B\", \"size\": [61, 30, 6, 7, 5, 3, 62, 17, 1, 3, 3, 21, 2, 27, 9, 20, 2, 8, 4, 1, 39, 2, 89, 10, 21, 1, 3, 5, 1, 7, 2, 5, 9, 4, 19, 15, 14], \"sizemode\": \"area\", \"sizeref\": 121.09, \"symbol\": \"circle\"}, \"mode\": \"markers\", \"name\": \"closed\", \"orientation\": \"v\", \"showlegend\": true, \"type\": \"scatter\", \"x\": [\"Appliances\", \"Beauty & Grooming\", \"Books\", \"Health & Sports\", \"Home & Living\", \"Kids & Baby\", \"Men's Fashion\", \"Mobiles & Tablets\", \"School & Education\", \"Soghaat\", \"Superstore\", \"Women's Fashion\", \"\\\\N\", \"Appliances\", \"Beauty & Grooming\", \"Computing\", \"Entertainment\", \"Health & Sports\", \"Home & Living\", \"Kids & Baby\", \"Mobiles & Tablets\", \"Soghaat\", \"Women's Fashion\", \"Appliances\", \"Beauty & Grooming\", \"Books\", \"Computing\", \"Entertainment\", \"Health & Sports\", \"Home & Living\", \"Kids & Baby\", \"Men's Fashion\", \"Mobiles & Tablets\", \"Others\", \"Soghaat\", \"Superstore\", \"Women's Fashion\"], \"xaxis\": \"x\", \"y\": [61, 30, 6, 7, 5, 3, 62, 17, 1, 3, 3, 21, 2, 27, 9, 20, 2, 8, 4, 1, 39, 2, 89, 10, 21, 1, 3, 5, 1, 7, 2, 5, 9, 4, 19, 15, 14], \"yaxis\": \"y\"}, {\"customdata\": [[\"complete\", 2016], [\"complete\", 2016], [\"complete\", 2016], [\"complete\", 2016], [\"complete\", 2016], [\"complete\", 2016], [\"complete\", 2016], [\"complete\", 2016], [\"complete\", 2016], [\"complete\", 2016], [\"complete\", 2016], [\"complete\", 2016], [\"complete\", 2016], [\"complete\", 2016], [\"complete\", 2016], [\"complete\", 2016], [\"complete\", 2017], [\"complete\", 2017], [\"complete\", 2017], [\"complete\", 2017], [\"complete\", 2017], [\"complete\", 2017], [\"complete\", 2017], [\"complete\", 2017], [\"complete\", 2017], [\"complete\", 2017], [\"complete\", 2017], [\"complete\", 2017], [\"complete\", 2017], [\"complete\", 2017], [\"complete\", 2017], [\"complete\", 2017], [\"complete\", 2018], [\"complete\", 2018], [\"complete\", 2018], [\"complete\", 2018], [\"complete\", 2018], [\"complete\", 2018], [\"complete\", 2018], [\"complete\", 2018], [\"complete\", 2018], [\"complete\", 2018], [\"complete\", 2018], [\"complete\", 2018], [\"complete\", 2018], [\"complete\", 2018], [\"complete\", 2018]], \"hovertemplate\": \"status=%{customdata[0]}<br>Category=%{x}<br>qty_ordered=%{marker.size}<br>Year=%{customdata[1]}<extra></extra>\", \"legendgroup\": \"complete\", \"marker\": {\"color\": \"#00cc96\", \"size\": [4769, 10274, 371, 1810, 1181, 2895, 3510, 2288, 15934, 10026, 939, 855, 14599, 4095, 5076, 2974, 13056, 13662, 657, 3261, 5269, 3817, 7476, 4713, 21862, 27808, 1292, 837, 10227, 21104, 16885, 662, 4479, 3512, 168, 1063, 3160, 2885, 1572, 772, 5779, 8725, 3789, 157, 1000, 4049, 3695], \"sizemode\": \"area\", \"sizeref\": 121.09, \"symbol\": \"circle\"}, \"mode\": \"markers\", \"name\": \"complete\", \"orientation\": \"v\", \"showlegend\": true, \"type\": \"scatter\", \"x\": [\"Appliances\", \"Beauty & Grooming\", \"Books\", \"Computing\", \"Entertainment\", \"Health & Sports\", \"Home & Living\", \"Kids & Baby\", \"Men's Fashion\", \"Mobiles & Tablets\", \"Others\", \"School & Education\", \"Soghaat\", \"Superstore\", \"Women's Fashion\", \"\\\\N\", \"Appliances\", \"Beauty & Grooming\", \"Books\", \"Computing\", \"Entertainment\", \"Health & Sports\", \"Home & Living\", \"Kids & Baby\", \"Men's Fashion\", \"Mobiles & Tablets\", \"Others\", \"School & Education\", \"Soghaat\", \"Superstore\", \"Women's Fashion\", \"\\\\N\", \"Appliances\", \"Beauty & Grooming\", \"Books\", \"Computing\", \"Entertainment\", \"Health & Sports\", \"Home & Living\", \"Kids & Baby\", \"Men's Fashion\", \"Mobiles & Tablets\", \"Others\", \"School & Education\", \"Soghaat\", \"Superstore\", \"Women's Fashion\"], \"xaxis\": \"x\", \"y\": [4769, 10274, 371, 1810, 1181, 2895, 3510, 2288, 15934, 10026, 939, 855, 14599, 4095, 5076, 2974, 13056, 13662, 657, 3261, 5269, 3817, 7476, 4713, 21862, 27808, 1292, 837, 10227, 21104, 16885, 662, 4479, 3512, 168, 1063, 3160, 2885, 1572, 772, 5779, 8725, 3789, 157, 1000, 4049, 3695], \"yaxis\": \"y\"}, {\"customdata\": [[\"order_refunded\", 2016], [\"order_refunded\", 2016], [\"order_refunded\", 2016], [\"order_refunded\", 2016], [\"order_refunded\", 2016], [\"order_refunded\", 2016], [\"order_refunded\", 2016], [\"order_refunded\", 2016], [\"order_refunded\", 2016], [\"order_refunded\", 2016], [\"order_refunded\", 2016], [\"order_refunded\", 2016], [\"order_refunded\", 2016], [\"order_refunded\", 2016], [\"order_refunded\", 2016], [\"order_refunded\", 2016], [\"order_refunded\", 2017], [\"order_refunded\", 2017], [\"order_refunded\", 2017], [\"order_refunded\", 2017], [\"order_refunded\", 2017], [\"order_refunded\", 2017], [\"order_refunded\", 2017], [\"order_refunded\", 2017], [\"order_refunded\", 2017], [\"order_refunded\", 2017], [\"order_refunded\", 2017], [\"order_refunded\", 2017], [\"order_refunded\", 2017], [\"order_refunded\", 2017], [\"order_refunded\", 2017], [\"order_refunded\", 2017], [\"order_refunded\", 2018], [\"order_refunded\", 2018], [\"order_refunded\", 2018], [\"order_refunded\", 2018], [\"order_refunded\", 2018], [\"order_refunded\", 2018], [\"order_refunded\", 2018], [\"order_refunded\", 2018], [\"order_refunded\", 2018], [\"order_refunded\", 2018], [\"order_refunded\", 2018], [\"order_refunded\", 2018], [\"order_refunded\", 2018], [\"order_refunded\", 2018], [\"order_refunded\", 2018]], \"hovertemplate\": \"status=%{customdata[0]}<br>Category=%{x}<br>qty_ordered=%{marker.size}<br>Year=%{customdata[1]}<extra></extra>\", \"legendgroup\": \"order_refunded\", \"marker\": {\"color\": \"#ab63fa\", \"size\": [753, 1137, 69, 418, 261, 501, 601, 421, 4583, 2401, 213, 171, 1281, 867, 1520, 1080, 2889, 2100, 159, 861, 1395, 1122, 1566, 1269, 9124, 7232, 671, 331, 1309, 2300, 5347, 680, 1648, 1008, 69, 497, 531, 975, 830, 403, 2549, 2755, 5272, 141, 235, 817, 1931], \"sizemode\": \"area\", \"sizeref\": 121.09, \"symbol\": \"circle\"}, \"mode\": \"markers\", \"name\": \"order_refunded\", \"orientation\": \"v\", \"showlegend\": true, \"type\": \"scatter\", \"x\": [\"Appliances\", \"Beauty & Grooming\", \"Books\", \"Computing\", \"Entertainment\", \"Health & Sports\", \"Home & Living\", \"Kids & Baby\", \"Men's Fashion\", \"Mobiles & Tablets\", \"Others\", \"School & Education\", \"Soghaat\", \"Superstore\", \"Women's Fashion\", \"\\\\N\", \"Appliances\", \"Beauty & Grooming\", \"Books\", \"Computing\", \"Entertainment\", \"Health & Sports\", \"Home & Living\", \"Kids & Baby\", \"Men's Fashion\", \"Mobiles & Tablets\", \"Others\", \"School & Education\", \"Soghaat\", \"Superstore\", \"Women's Fashion\", \"\\\\N\", \"Appliances\", \"Beauty & Grooming\", \"Books\", \"Computing\", \"Entertainment\", \"Health & Sports\", \"Home & Living\", \"Kids & Baby\", \"Men's Fashion\", \"Mobiles & Tablets\", \"Others\", \"School & Education\", \"Soghaat\", \"Superstore\", \"Women's Fashion\"], \"xaxis\": \"x\", \"y\": [753, 1137, 69, 418, 261, 501, 601, 421, 4583, 2401, 213, 171, 1281, 867, 1520, 1080, 2889, 2100, 159, 861, 1395, 1122, 1566, 1269, 9124, 7232, 671, 331, 1309, 2300, 5347, 680, 1648, 1008, 69, 497, 531, 975, 830, 403, 2549, 2755, 5272, 141, 235, 817, 1931], \"yaxis\": \"y\"}, {\"customdata\": [[\"received\", 2016], [\"received\", 2016], [\"received\", 2016], [\"received\", 2016], [\"received\", 2016], [\"received\", 2016], [\"received\", 2016], [\"received\", 2016], [\"received\", 2016], [\"received\", 2016], [\"received\", 2016], [\"received\", 2016], [\"received\", 2016], [\"received\", 2016], [\"received\", 2016], [\"received\", 2016], [\"received\", 2017], [\"received\", 2017], [\"received\", 2017], [\"received\", 2017], [\"received\", 2017], [\"received\", 2017], [\"received\", 2017], [\"received\", 2017], [\"received\", 2017], [\"received\", 2017], [\"received\", 2017], [\"received\", 2017], [\"received\", 2017], [\"received\", 2017], [\"received\", 2017], [\"received\", 2017], [\"received\", 2018], [\"received\", 2018], [\"received\", 2018], [\"received\", 2018], [\"received\", 2018], [\"received\", 2018], [\"received\", 2018], [\"received\", 2018], [\"received\", 2018], [\"received\", 2018], [\"received\", 2018], [\"received\", 2018], [\"received\", 2018], [\"received\", 2018], [\"received\", 2018]], \"hovertemplate\": \"status=%{customdata[0]}<br>Category=%{x}<br>qty_ordered=%{marker.size}<br>Year=%{customdata[1]}<extra></extra>\", \"legendgroup\": \"received\", \"marker\": {\"color\": \"#FFA15A\", \"size\": [180, 322, 3, 67, 20, 106, 115, 130, 772, 239, 33, 36, 397, 242, 292, 49, 1187, 3117, 209, 547, 255, 909, 2577, 1881, 8477, 3125, 773, 326, 3128, 10617, 5481, 113, 4430, 3981, 345, 1011, 1981, 3751, 2497, 1260, 4128, 5769, 19225, 305, 2006, 8874, 4991], \"sizemode\": \"area\", \"sizeref\": 121.09, \"symbol\": \"circle\"}, \"mode\": \"markers\", \"name\": \"received\", \"orientation\": \"v\", \"showlegend\": true, \"type\": \"scatter\", \"x\": [\"Appliances\", \"Beauty & Grooming\", \"Books\", \"Computing\", \"Entertainment\", \"Health & Sports\", \"Home & Living\", \"Kids & Baby\", \"Men's Fashion\", \"Mobiles & Tablets\", \"Others\", \"School & Education\", \"Soghaat\", \"Superstore\", \"Women's Fashion\", \"\\\\N\", \"Appliances\", \"Beauty & Grooming\", \"Books\", \"Computing\", \"Entertainment\", \"Health & Sports\", \"Home & Living\", \"Kids & Baby\", \"Men's Fashion\", \"Mobiles & Tablets\", \"Others\", \"School & Education\", \"Soghaat\", \"Superstore\", \"Women's Fashion\", \"\\\\N\", \"Appliances\", \"Beauty & Grooming\", \"Books\", \"Computing\", \"Entertainment\", \"Health & Sports\", \"Home & Living\", \"Kids & Baby\", \"Men's Fashion\", \"Mobiles & Tablets\", \"Others\", \"School & Education\", \"Soghaat\", \"Superstore\", \"Women's Fashion\"], \"xaxis\": \"x\", \"y\": [180, 322, 3, 67, 20, 106, 115, 130, 772, 239, 33, 36, 397, 242, 292, 49, 1187, 3117, 209, 547, 255, 909, 2577, 1881, 8477, 3125, 773, 326, 3128, 10617, 5481, 113, 4430, 3981, 345, 1011, 1981, 3751, 2497, 1260, 4128, 5769, 19225, 305, 2006, 8874, 4991], \"yaxis\": \"y\"}, {\"customdata\": [[\"refund\", 2016], [\"refund\", 2016], [\"refund\", 2016], [\"refund\", 2016], [\"refund\", 2016], [\"refund\", 2016], [\"refund\", 2016], [\"refund\", 2016], [\"refund\", 2016], [\"refund\", 2016], [\"refund\", 2016], [\"refund\", 2016], [\"refund\", 2016], [\"refund\", 2016], [\"refund\", 2016], [\"refund\", 2016], [\"refund\", 2017], [\"refund\", 2017], [\"refund\", 2017], [\"refund\", 2017], [\"refund\", 2017], [\"refund\", 2017], [\"refund\", 2017], [\"refund\", 2017], [\"refund\", 2017], [\"refund\", 2017], [\"refund\", 2017], [\"refund\", 2017], [\"refund\", 2017], [\"refund\", 2017], [\"refund\", 2017], [\"refund\", 2017], [\"refund\", 2018], [\"refund\", 2018], [\"refund\", 2018], [\"refund\", 2018], [\"refund\", 2018], [\"refund\", 2018], [\"refund\", 2018], [\"refund\", 2018], [\"refund\", 2018], [\"refund\", 2018], [\"refund\", 2018], [\"refund\", 2018], [\"refund\", 2018], [\"refund\", 2018], [\"refund\", 2018]], \"hovertemplate\": \"status=%{customdata[0]}<br>Category=%{x}<br>qty_ordered=%{marker.size}<br>Year=%{customdata[1]}<extra></extra>\", \"legendgroup\": \"refund\", \"marker\": {\"color\": \"#19d3f3\", \"size\": [186, 224, 5, 122, 40, 98, 177, 130, 954, 329, 40, 38, 243, 67, 330, 104, 242, 268, 33, 58, 83, 90, 337, 183, 1316, 475, 209, 11, 242, 278, 520, 64, 233, 285, 7, 78, 31, 66, 164, 87, 390, 164, 25, 17, 55, 210, 277], \"sizemode\": \"area\", \"sizeref\": 121.09, \"symbol\": \"circle\"}, \"mode\": \"markers\", \"name\": \"refund\", \"orientation\": \"v\", \"showlegend\": true, \"type\": \"scatter\", \"x\": [\"Appliances\", \"Beauty & Grooming\", \"Books\", \"Computing\", \"Entertainment\", \"Health & Sports\", \"Home & Living\", \"Kids & Baby\", \"Men's Fashion\", \"Mobiles & Tablets\", \"Others\", \"School & Education\", \"Soghaat\", \"Superstore\", \"Women's Fashion\", \"\\\\N\", \"Appliances\", \"Beauty & Grooming\", \"Books\", \"Computing\", \"Entertainment\", \"Health & Sports\", \"Home & Living\", \"Kids & Baby\", \"Men's Fashion\", \"Mobiles & Tablets\", \"Others\", \"School & Education\", \"Soghaat\", \"Superstore\", \"Women's Fashion\", \"\\\\N\", \"Appliances\", \"Beauty & Grooming\", \"Books\", \"Computing\", \"Entertainment\", \"Health & Sports\", \"Home & Living\", \"Kids & Baby\", \"Men's Fashion\", \"Mobiles & Tablets\", \"Others\", \"School & Education\", \"Soghaat\", \"Superstore\", \"Women's Fashion\"], \"xaxis\": \"x\", \"y\": [186, 224, 5, 122, 40, 98, 177, 130, 954, 329, 40, 38, 243, 67, 330, 104, 242, 268, 33, 58, 83, 90, 337, 183, 1316, 475, 209, 11, 242, 278, 520, 64, 233, 285, 7, 78, 31, 66, 164, 87, 390, 164, 25, 17, 55, 210, 277], \"yaxis\": \"y\"}, {\"customdata\": [[\"exchange\", 2016], [\"exchange\", 2016], [\"exchange\", 2016], [\"exchange\", 2016]], \"hovertemplate\": \"status=%{customdata[0]}<br>Category=%{x}<br>qty_ordered=%{marker.size}<br>Year=%{customdata[1]}<extra></extra>\", \"legendgroup\": \"exchange\", \"marker\": {\"color\": \"#FF6692\", \"size\": [1, 1, 1, 1], \"sizemode\": \"area\", \"sizeref\": 121.09, \"symbol\": \"circle\"}, \"mode\": \"markers\", \"name\": \"exchange\", \"orientation\": \"v\", \"showlegend\": true, \"type\": \"scatter\", \"x\": [\"Computing\", \"Men's Fashion\", \"Mobiles & Tablets\", \"Women's Fashion\"], \"xaxis\": \"x\", \"y\": [1, 1, 1, 1], \"yaxis\": \"y\"}, {\"customdata\": [[\"fraud\", 2016], [\"fraud\", 2016], [\"fraud\", 2016], [\"fraud\", 2016], [\"fraud\", 2017]], \"hovertemplate\": \"status=%{customdata[0]}<br>Category=%{x}<br>qty_ordered=%{marker.size}<br>Year=%{customdata[1]}<extra></extra>\", \"legendgroup\": \"fraud\", \"marker\": {\"color\": \"#B6E880\", \"size\": [1, 2, 1, 3, 3], \"sizemode\": \"area\", \"sizeref\": 121.09, \"symbol\": \"circle\"}, \"mode\": \"markers\", \"name\": \"fraud\", \"orientation\": \"v\", \"showlegend\": true, \"type\": \"scatter\", \"x\": [\"Computing\", \"Entertainment\", \"Home & Living\", \"Mobiles & Tablets\", \"Mobiles & Tablets\"], \"xaxis\": \"x\", \"y\": [1, 2, 1, 3, 3], \"yaxis\": \"y\"}, {\"customdata\": [[\"holded\", 2016], [\"holded\", 2016], [\"holded\", 2016], [\"holded\", 2018], [\"holded\", 2018], [\"holded\", 2018], [\"holded\", 2018], [\"holded\", 2018], [\"holded\", 2018]], \"hovertemplate\": \"status=%{customdata[0]}<br>Category=%{x}<br>qty_ordered=%{marker.size}<br>Year=%{customdata[1]}<extra></extra>\", \"legendgroup\": \"holded\", \"marker\": {\"color\": \"#FF97FF\", \"size\": [2, 1, 3, 3, 7, 2, 2, 6, 10], \"sizemode\": \"area\", \"sizeref\": 121.09, \"symbol\": \"circle\"}, \"mode\": \"markers\", \"name\": \"holded\", \"orientation\": \"v\", \"showlegend\": true, \"type\": \"scatter\", \"x\": [\"Home & Living\", \"School & Education\", \"Soghaat\", \"Appliances\", \"Beauty & Grooming\", \"Computing\", \"Entertainment\", \"Men's Fashion\", \"Mobiles & Tablets\"], \"xaxis\": \"x\", \"y\": [2, 1, 3, 3, 7, 2, 2, 6, 10], \"yaxis\": \"y\"}, {\"customdata\": [[\"cod\", 2017], [\"cod\", 2017], [\"cod\", 2017], [\"cod\", 2017], [\"cod\", 2017], [\"cod\", 2017], [\"cod\", 2017], [\"cod\", 2017], [\"cod\", 2017], [\"cod\", 2017], [\"cod\", 2017], [\"cod\", 2017], [\"cod\", 2017], [\"cod\", 2017], [\"cod\", 2017], [\"cod\", 2017], [\"cod\", 2018], [\"cod\", 2018], [\"cod\", 2018], [\"cod\", 2018], [\"cod\", 2018], [\"cod\", 2018], [\"cod\", 2018], [\"cod\", 2018], [\"cod\", 2018], [\"cod\", 2018], [\"cod\", 2018], [\"cod\", 2018], [\"cod\", 2018], [\"cod\", 2018], [\"cod\", 2018]], \"hovertemplate\": \"status=%{customdata[0]}<br>Category=%{x}<br>qty_ordered=%{marker.size}<br>Year=%{customdata[1]}<extra></extra>\", \"legendgroup\": \"cod\", \"marker\": {\"color\": \"#FECB52\", \"size\": [67, 195, 86, 27, 4, 27, 264, 101, 389, 75, 51, 17, 82, 124, 306, 6, 55, 181, 34, 48, 18, 73, 184, 58, 234, 106, 128, 9, 64, 120, 228], \"sizemode\": \"area\", \"sizeref\": 121.09, \"symbol\": \"circle\"}, \"mode\": \"markers\", \"name\": \"cod\", \"orientation\": \"v\", \"showlegend\": true, \"type\": \"scatter\", \"x\": [\"Appliances\", \"Beauty & Grooming\", \"Books\", \"Computing\", \"Entertainment\", \"Health & Sports\", \"Home & Living\", \"Kids & Baby\", \"Men's Fashion\", \"Mobiles & Tablets\", \"Others\", \"School & Education\", \"Soghaat\", \"Superstore\", \"Women's Fashion\", \"\\\\N\", \"Appliances\", \"Beauty & Grooming\", \"Books\", \"Computing\", \"Entertainment\", \"Health & Sports\", \"Home & Living\", \"Kids & Baby\", \"Men's Fashion\", \"Mobiles & Tablets\", \"Others\", \"School & Education\", \"Soghaat\", \"Superstore\", \"Women's Fashion\"], \"xaxis\": \"x\", \"y\": [67, 195, 86, 27, 4, 27, 264, 101, 389, 75, 51, 17, 82, 124, 306, 6, 55, 181, 34, 48, 18, 73, 184, 58, 234, 106, 128, 9, 64, 120, 228], \"yaxis\": \"y\"}, {\"customdata\": [[\"paid\", 2017], [\"paid\", 2017], [\"paid\", 2017], [\"paid\", 2017], [\"paid\", 2017], [\"paid\", 2017], [\"paid\", 2017], [\"paid\", 2017], [\"paid\", 2017], [\"paid\", 2017], [\"paid\", 2017], [\"paid\", 2017], [\"paid\", 2017], [\"paid\", 2017], [\"paid\", 2017], [\"paid\", 2017], [\"paid\", 2018], [\"paid\", 2018], [\"paid\", 2018], [\"paid\", 2018], [\"paid\", 2018], [\"paid\", 2018], [\"paid\", 2018], [\"paid\", 2018], [\"paid\", 2018], [\"paid\", 2018], [\"paid\", 2018], [\"paid\", 2018], [\"paid\", 2018], [\"paid\", 2018], [\"paid\", 2018]], \"hovertemplate\": \"status=%{customdata[0]}<br>Category=%{x}<br>qty_ordered=%{marker.size}<br>Year=%{customdata[1]}<extra></extra>\", \"legendgroup\": \"paid\", \"marker\": {\"color\": \"#636efa\", \"size\": [12, 44, 12, 4, 3, 5, 28, 33, 62, 33, 5, 2, 96, 529, 55, 3, 34, 122, 8, 18, 19, 23, 71, 37, 53, 57, 86, 3, 33, 161, 71], \"sizemode\": \"area\", \"sizeref\": 121.09, \"symbol\": \"circle\"}, \"mode\": \"markers\", \"name\": \"paid\", \"orientation\": \"v\", \"showlegend\": true, \"type\": \"scatter\", \"x\": [\"Appliances\", \"Beauty & Grooming\", \"Books\", \"Computing\", \"Entertainment\", \"Health & Sports\", \"Home & Living\", \"Kids & Baby\", \"Men's Fashion\", \"Mobiles & Tablets\", \"Others\", \"School & Education\", \"Soghaat\", \"Superstore\", \"Women's Fashion\", \"\\\\N\", \"Appliances\", \"Beauty & Grooming\", \"Books\", \"Computing\", \"Entertainment\", \"Health & Sports\", \"Home & Living\", \"Kids & Baby\", \"Men's Fashion\", \"Mobiles & Tablets\", \"Others\", \"School & Education\", \"Soghaat\", \"Superstore\", \"Women's Fashion\"], \"xaxis\": \"x\", \"y\": [12, 44, 12, 4, 3, 5, 28, 33, 62, 33, 5, 2, 96, 529, 55, 3, 34, 122, 8, 18, 19, 23, 71, 37, 53, 57, 86, 3, 33, 161, 71], \"yaxis\": \"y\"}, {\"customdata\": [[\"pending_paypal\", 2017], [\"pending_paypal\", 2017], [\"pending_paypal\", 2017], [\"pending_paypal\", 2017], [\"pending_paypal\", 2017]], \"hovertemplate\": \"status=%{customdata[0]}<br>Category=%{x}<br>qty_ordered=%{marker.size}<br>Year=%{customdata[1]}<extra></extra>\", \"legendgroup\": \"pending_paypal\", \"marker\": {\"color\": \"#EF553B\", \"size\": [1, 1, 3, 3, 1], \"sizemode\": \"area\", \"sizeref\": 121.09, \"symbol\": \"circle\"}, \"mode\": \"markers\", \"name\": \"pending_paypal\", \"orientation\": \"v\", \"showlegend\": true, \"type\": \"scatter\", \"x\": [\"Health & Sports\", \"Home & Living\", \"Men's Fashion\", \"Superstore\", \"Women's Fashion\"], \"xaxis\": \"x\", \"y\": [1, 1, 3, 3, 1], \"yaxis\": \"y\"}, {\"customdata\": [[\"\\\\N\", 2017]], \"hovertemplate\": \"status=%{customdata[0]}<br>Category=%{x}<br>qty_ordered=%{marker.size}<br>Year=%{customdata[1]}<extra></extra>\", \"legendgroup\": \"\\\\N\", \"marker\": {\"color\": \"#00cc96\", \"size\": [6], \"sizemode\": \"area\", \"sizeref\": 121.09, \"symbol\": \"circle\"}, \"mode\": \"markers\", \"name\": \"\\\\N\", \"orientation\": \"v\", \"showlegend\": true, \"type\": \"scatter\", \"x\": [\"\\\\N\"], \"xaxis\": \"x\", \"y\": [6], \"yaxis\": \"y\"}, {\"customdata\": [[\"payment_review\", 2018], [\"payment_review\", 2018], [\"payment_review\", 2018], [\"payment_review\", 2018], [\"payment_review\", 2018], [\"payment_review\", 2018], [\"payment_review\", 2018], [\"payment_review\", 2018]], \"hovertemplate\": \"status=%{customdata[0]}<br>Category=%{x}<br>qty_ordered=%{marker.size}<br>Year=%{customdata[1]}<extra></extra>\", \"legendgroup\": \"payment_review\", \"marker\": {\"color\": \"#ab63fa\", \"size\": [12, 2, 1, 4, 6, 1, 16, 126], \"sizemode\": \"area\", \"sizeref\": 121.09, \"symbol\": \"circle\"}, \"mode\": \"markers\", \"name\": \"payment_review\", \"orientation\": \"v\", \"showlegend\": true, \"type\": \"scatter\", \"x\": [\"Appliances\", \"Beauty & Grooming\", \"Entertainment\", \"Health & Sports\", \"Men's Fashion\", \"Mobiles & Tablets\", \"Soghaat\", \"Superstore\"], \"xaxis\": \"x\", \"y\": [12, 2, 1, 4, 6, 1, 16, 126], \"yaxis\": \"y\"}, {\"customdata\": [[\"pending\", 2018], [\"pending\", 2018], [\"pending\", 2018], [\"pending\", 2018], [\"pending\", 2018], [\"pending\", 2018], [\"pending\", 2018], [\"pending\", 2018]], \"hovertemplate\": \"status=%{customdata[0]}<br>Category=%{x}<br>qty_ordered=%{marker.size}<br>Year=%{customdata[1]}<extra></extra>\", \"legendgroup\": \"pending\", \"marker\": {\"color\": \"#FFA15A\", \"size\": [14, 3, 11, 1, 25, 9, 1, 6], \"sizemode\": \"area\", \"sizeref\": 121.09, \"symbol\": \"circle\"}, \"mode\": \"markers\", \"name\": \"pending\", \"orientation\": \"v\", \"showlegend\": true, \"type\": \"scatter\", \"x\": [\"Appliances\", \"Computing\", \"Entertainment\", \"Home & Living\", \"Mobiles & Tablets\", \"Others\", \"Soghaat\", \"Women's Fashion\"], \"xaxis\": \"x\", \"y\": [14, 3, 11, 1, 25, 9, 1, 6], \"yaxis\": \"y\"}, {\"customdata\": [[\"processing\", 2018], [\"processing\", 2018], [\"processing\", 2018], [\"processing\", 2018], [\"processing\", 2018], [\"processing\", 2018], [\"processing\", 2018]], \"hovertemplate\": \"status=%{customdata[0]}<br>Category=%{x}<br>qty_ordered=%{marker.size}<br>Year=%{customdata[1]}<extra></extra>\", \"legendgroup\": \"processing\", \"marker\": {\"color\": \"#19d3f3\", \"size\": [1, 1, 1, 1, 20, 9, 3], \"sizemode\": \"area\", \"sizeref\": 121.09, \"symbol\": \"circle\"}, \"mode\": \"markers\", \"name\": \"processing\", \"orientation\": \"v\", \"showlegend\": true, \"type\": \"scatter\", \"x\": [\"Appliances\", \"Beauty & Grooming\", \"Health & Sports\", \"Home & Living\", \"Men's Fashion\", \"Mobiles & Tablets\", \"Women's Fashion\"], \"xaxis\": \"x\", \"y\": [1, 1, 1, 1, 20, 9, 3], \"yaxis\": \"y\"}],                        {\"legend\": {\"itemsizing\": \"constant\", \"title\": {\"text\": \"status\"}, \"tracegroupgap\": 0}, \"margin\": {\"t\": 60}, \"template\": {\"data\": {\"bar\": [{\"error_x\": {\"color\": \"#2a3f5f\"}, \"error_y\": {\"color\": \"#2a3f5f\"}, \"marker\": {\"line\": {\"color\": \"#E5ECF6\", \"width\": 0.5}}, \"type\": \"bar\"}], \"barpolar\": [{\"marker\": {\"line\": {\"color\": \"#E5ECF6\", \"width\": 0.5}}, \"type\": \"barpolar\"}], \"carpet\": [{\"aaxis\": {\"endlinecolor\": \"#2a3f5f\", \"gridcolor\": \"white\", \"linecolor\": \"white\", \"minorgridcolor\": \"white\", \"startlinecolor\": \"#2a3f5f\"}, \"baxis\": {\"endlinecolor\": \"#2a3f5f\", \"gridcolor\": \"white\", \"linecolor\": \"white\", \"minorgridcolor\": \"white\", \"startlinecolor\": \"#2a3f5f\"}, \"type\": \"carpet\"}], \"choropleth\": [{\"colorbar\": {\"outlinewidth\": 0, \"ticks\": \"\"}, \"type\": \"choropleth\"}], \"contour\": [{\"colorbar\": {\"outlinewidth\": 0, \"ticks\": \"\"}, \"colorscale\": [[0.0, \"#0d0887\"], [0.1111111111111111, \"#46039f\"], [0.2222222222222222, \"#7201a8\"], [0.3333333333333333, \"#9c179e\"], [0.4444444444444444, \"#bd3786\"], [0.5555555555555556, \"#d8576b\"], [0.6666666666666666, \"#ed7953\"], [0.7777777777777778, \"#fb9f3a\"], [0.8888888888888888, \"#fdca26\"], [1.0, \"#f0f921\"]], \"type\": \"contour\"}], \"contourcarpet\": [{\"colorbar\": {\"outlinewidth\": 0, \"ticks\": \"\"}, \"type\": \"contourcarpet\"}], \"heatmap\": [{\"colorbar\": {\"outlinewidth\": 0, \"ticks\": \"\"}, \"colorscale\": [[0.0, \"#0d0887\"], [0.1111111111111111, \"#46039f\"], [0.2222222222222222, \"#7201a8\"], [0.3333333333333333, \"#9c179e\"], [0.4444444444444444, \"#bd3786\"], [0.5555555555555556, \"#d8576b\"], [0.6666666666666666, \"#ed7953\"], [0.7777777777777778, \"#fb9f3a\"], [0.8888888888888888, \"#fdca26\"], [1.0, \"#f0f921\"]], \"type\": \"heatmap\"}], \"heatmapgl\": [{\"colorbar\": {\"outlinewidth\": 0, \"ticks\": \"\"}, \"colorscale\": [[0.0, \"#0d0887\"], [0.1111111111111111, \"#46039f\"], [0.2222222222222222, \"#7201a8\"], [0.3333333333333333, \"#9c179e\"], [0.4444444444444444, \"#bd3786\"], [0.5555555555555556, \"#d8576b\"], [0.6666666666666666, \"#ed7953\"], [0.7777777777777778, \"#fb9f3a\"], [0.8888888888888888, \"#fdca26\"], [1.0, \"#f0f921\"]], \"type\": \"heatmapgl\"}], \"histogram\": [{\"marker\": {\"colorbar\": {\"outlinewidth\": 0, \"ticks\": \"\"}}, \"type\": \"histogram\"}], \"histogram2d\": [{\"colorbar\": {\"outlinewidth\": 0, \"ticks\": \"\"}, \"colorscale\": [[0.0, \"#0d0887\"], [0.1111111111111111, \"#46039f\"], [0.2222222222222222, \"#7201a8\"], [0.3333333333333333, \"#9c179e\"], [0.4444444444444444, \"#bd3786\"], [0.5555555555555556, \"#d8576b\"], [0.6666666666666666, \"#ed7953\"], [0.7777777777777778, \"#fb9f3a\"], [0.8888888888888888, \"#fdca26\"], [1.0, \"#f0f921\"]], \"type\": \"histogram2d\"}], \"histogram2dcontour\": [{\"colorbar\": {\"outlinewidth\": 0, \"ticks\": \"\"}, \"colorscale\": [[0.0, \"#0d0887\"], [0.1111111111111111, \"#46039f\"], [0.2222222222222222, \"#7201a8\"], [0.3333333333333333, \"#9c179e\"], [0.4444444444444444, \"#bd3786\"], [0.5555555555555556, \"#d8576b\"], [0.6666666666666666, \"#ed7953\"], [0.7777777777777778, \"#fb9f3a\"], [0.8888888888888888, \"#fdca26\"], [1.0, \"#f0f921\"]], \"type\": \"histogram2dcontour\"}], \"mesh3d\": [{\"colorbar\": {\"outlinewidth\": 0, \"ticks\": \"\"}, \"type\": \"mesh3d\"}], \"parcoords\": [{\"line\": {\"colorbar\": {\"outlinewidth\": 0, \"ticks\": \"\"}}, \"type\": \"parcoords\"}], \"pie\": [{\"automargin\": true, \"type\": \"pie\"}], \"scatter\": [{\"marker\": {\"colorbar\": {\"outlinewidth\": 0, \"ticks\": \"\"}}, \"type\": \"scatter\"}], \"scatter3d\": [{\"line\": {\"colorbar\": {\"outlinewidth\": 0, \"ticks\": \"\"}}, \"marker\": {\"colorbar\": {\"outlinewidth\": 0, \"ticks\": \"\"}}, \"type\": \"scatter3d\"}], \"scattercarpet\": [{\"marker\": {\"colorbar\": {\"outlinewidth\": 0, \"ticks\": \"\"}}, \"type\": \"scattercarpet\"}], \"scattergeo\": [{\"marker\": {\"colorbar\": {\"outlinewidth\": 0, \"ticks\": \"\"}}, \"type\": \"scattergeo\"}], \"scattergl\": [{\"marker\": {\"colorbar\": {\"outlinewidth\": 0, \"ticks\": \"\"}}, \"type\": \"scattergl\"}], \"scattermapbox\": [{\"marker\": {\"colorbar\": {\"outlinewidth\": 0, \"ticks\": \"\"}}, \"type\": \"scattermapbox\"}], \"scatterpolar\": [{\"marker\": {\"colorbar\": {\"outlinewidth\": 0, \"ticks\": \"\"}}, \"type\": \"scatterpolar\"}], \"scatterpolargl\": [{\"marker\": {\"colorbar\": {\"outlinewidth\": 0, \"ticks\": \"\"}}, \"type\": \"scatterpolargl\"}], \"scatterternary\": [{\"marker\": {\"colorbar\": {\"outlinewidth\": 0, \"ticks\": \"\"}}, \"type\": \"scatterternary\"}], \"surface\": [{\"colorbar\": {\"outlinewidth\": 0, \"ticks\": \"\"}, \"colorscale\": [[0.0, \"#0d0887\"], [0.1111111111111111, \"#46039f\"], [0.2222222222222222, \"#7201a8\"], [0.3333333333333333, \"#9c179e\"], [0.4444444444444444, \"#bd3786\"], [0.5555555555555556, \"#d8576b\"], [0.6666666666666666, \"#ed7953\"], [0.7777777777777778, \"#fb9f3a\"], [0.8888888888888888, \"#fdca26\"], [1.0, \"#f0f921\"]], \"type\": \"surface\"}], \"table\": [{\"cells\": {\"fill\": {\"color\": \"#EBF0F8\"}, \"line\": {\"color\": \"white\"}}, \"header\": {\"fill\": {\"color\": \"#C8D4E3\"}, \"line\": {\"color\": \"white\"}}, \"type\": \"table\"}]}, \"layout\": {\"annotationdefaults\": {\"arrowcolor\": \"#2a3f5f\", \"arrowhead\": 0, \"arrowwidth\": 1}, \"autotypenumbers\": \"strict\", \"coloraxis\": {\"colorbar\": {\"outlinewidth\": 0, \"ticks\": \"\"}}, \"colorscale\": {\"diverging\": [[0, \"#8e0152\"], [0.1, \"#c51b7d\"], [0.2, \"#de77ae\"], [0.3, \"#f1b6da\"], [0.4, \"#fde0ef\"], [0.5, \"#f7f7f7\"], [0.6, \"#e6f5d0\"], [0.7, \"#b8e186\"], [0.8, \"#7fbc41\"], [0.9, \"#4d9221\"], [1, \"#276419\"]], \"sequential\": [[0.0, \"#0d0887\"], [0.1111111111111111, \"#46039f\"], [0.2222222222222222, \"#7201a8\"], [0.3333333333333333, \"#9c179e\"], [0.4444444444444444, \"#bd3786\"], [0.5555555555555556, \"#d8576b\"], [0.6666666666666666, \"#ed7953\"], [0.7777777777777778, \"#fb9f3a\"], [0.8888888888888888, \"#fdca26\"], [1.0, \"#f0f921\"]], \"sequentialminus\": [[0.0, \"#0d0887\"], [0.1111111111111111, \"#46039f\"], [0.2222222222222222, \"#7201a8\"], [0.3333333333333333, \"#9c179e\"], [0.4444444444444444, \"#bd3786\"], [0.5555555555555556, \"#d8576b\"], [0.6666666666666666, \"#ed7953\"], [0.7777777777777778, \"#fb9f3a\"], [0.8888888888888888, \"#fdca26\"], [1.0, \"#f0f921\"]]}, \"colorway\": [\"#636efa\", \"#EF553B\", \"#00cc96\", \"#ab63fa\", \"#FFA15A\", \"#19d3f3\", \"#FF6692\", \"#B6E880\", \"#FF97FF\", \"#FECB52\"], \"font\": {\"color\": \"#2a3f5f\"}, \"geo\": {\"bgcolor\": \"white\", \"lakecolor\": \"white\", \"landcolor\": \"#E5ECF6\", \"showlakes\": true, \"showland\": true, \"subunitcolor\": \"white\"}, \"hoverlabel\": {\"align\": \"left\"}, \"hovermode\": \"closest\", \"mapbox\": {\"style\": \"light\"}, \"paper_bgcolor\": \"white\", \"plot_bgcolor\": \"#E5ECF6\", \"polar\": {\"angularaxis\": {\"gridcolor\": \"white\", \"linecolor\": \"white\", \"ticks\": \"\"}, \"bgcolor\": \"#E5ECF6\", \"radialaxis\": {\"gridcolor\": \"white\", \"linecolor\": \"white\", \"ticks\": \"\"}}, \"scene\": {\"xaxis\": {\"backgroundcolor\": \"#E5ECF6\", \"gridcolor\": \"white\", \"gridwidth\": 2, \"linecolor\": \"white\", \"showbackground\": true, \"ticks\": \"\", \"zerolinecolor\": \"white\"}, \"yaxis\": {\"backgroundcolor\": \"#E5ECF6\", \"gridcolor\": \"white\", \"gridwidth\": 2, \"linecolor\": \"white\", \"showbackground\": true, \"ticks\": \"\", \"zerolinecolor\": \"white\"}, \"zaxis\": {\"backgroundcolor\": \"#E5ECF6\", \"gridcolor\": \"white\", \"gridwidth\": 2, \"linecolor\": \"white\", \"showbackground\": true, \"ticks\": \"\", \"zerolinecolor\": \"white\"}}, \"shapedefaults\": {\"line\": {\"color\": \"#2a3f5f\"}}, \"ternary\": {\"aaxis\": {\"gridcolor\": \"white\", \"linecolor\": \"white\", \"ticks\": \"\"}, \"baxis\": {\"gridcolor\": \"white\", \"linecolor\": \"white\", \"ticks\": \"\"}, \"bgcolor\": \"#E5ECF6\", \"caxis\": {\"gridcolor\": \"white\", \"linecolor\": \"white\", \"ticks\": \"\"}}, \"title\": {\"x\": 0.05}, \"xaxis\": {\"automargin\": true, \"gridcolor\": \"white\", \"linecolor\": \"white\", \"ticks\": \"\", \"title\": {\"standoff\": 15}, \"zerolinecolor\": \"white\", \"zerolinewidth\": 2}, \"yaxis\": {\"automargin\": true, \"gridcolor\": \"white\", \"linecolor\": \"white\", \"ticks\": \"\", \"title\": {\"standoff\": 15}, \"zerolinecolor\": \"white\", \"zerolinewidth\": 2}}}, \"xaxis\": {\"anchor\": \"y\", \"domain\": [0.0, 1.0], \"title\": {\"text\": \"Category\"}}, \"yaxis\": {\"anchor\": \"x\", \"domain\": [0.0, 1.0], \"title\": {\"text\": \"qty_ordered\"}}},                        {\"responsive\": true}                    ).then(function(){\n",
       "                            \n",
       "var gd = document.getElementById('cd83424c-afb8-4ce3-ab17-f02f346464f8');\n",
       "var x = new MutationObserver(function (mutations, observer) {{\n",
       "        var display = window.getComputedStyle(gd).display;\n",
       "        if (!display || display === 'none') {{\n",
       "            console.log([gd, 'removed!']);\n",
       "            Plotly.purge(gd);\n",
       "            observer.disconnect();\n",
       "        }}\n",
       "}});\n",
       "\n",
       "// Listen for the removal of the full notebook cells\n",
       "var notebookContainer = gd.closest('#notebook-container');\n",
       "if (notebookContainer) {{\n",
       "    x.observe(notebookContainer, {childList: true});\n",
       "}}\n",
       "\n",
       "// Listen for the clearing of the current output cell\n",
       "var outputEl = gd.closest('.output');\n",
       "if (outputEl) {{\n",
       "    x.observe(outputEl, {childList: true});\n",
       "}}\n",
       "\n",
       "                        })                };                });            </script>        </div>"
      ]
     },
     "metadata": {},
     "output_type": "display_data"
    }
   ],
   "source": [
    "no=data.groupby(['Year','Category','status'])['qty_ordered'].sum().reset_index()\n",
    "px.scatter(no,x='Category',y='qty_ordered',color='status',size='qty_ordered',hover_data=['Category','status','Year'])"
   ]
  }
 ],
 "metadata": {
  "kernelspec": {
   "display_name": "Python 3",
   "language": "python",
   "name": "python3"
  },
  "language_info": {
   "codemirror_mode": {
    "name": "ipython",
    "version": 3
   },
   "file_extension": ".py",
   "mimetype": "text/x-python",
   "name": "python",
   "nbconvert_exporter": "python",
   "pygments_lexer": "ipython3",
   "version": "3.10.1"
  },
  "papermill": {
   "default_parameters": {},
   "duration": 28.01568,
   "end_time": "2021-08-03T07:12:44.509975",
   "environment_variables": {},
   "exception": null,
   "input_path": "__notebook__.ipynb",
   "output_path": "__notebook__.ipynb",
   "parameters": {},
   "start_time": "2021-08-03T07:12:16.494295",
   "version": "2.3.3"
  }
 },
 "nbformat": 4,
 "nbformat_minor": 5
}
